{
  "cells": [
    {
      "cell_type": "markdown",
      "source": [
        "# Automated ML\n",
        "\n",
        "TODO: Import Dependencies. In the cell below, import all the dependencies that you will need to complete the project."
      ],
      "metadata": {}
    },
    {
      "cell_type": "code",
      "source": [
        "from azureml.core import Workspace, Experiment, Model, Environment\r\n",
        "from azureml.core.model import InferenceConfig\r\n",
        "from azureml.core.webservice import AciWebservice, Webservice\r\n",
        "from azureml.core.compute import ComputeTarget, AmlCompute\r\n",
        "from azureml.widgets import RunDetails\r\n",
        "from azureml.train.sklearn import SKLearn\r\n",
        "from azureml.train.hyperdrive.run import PrimaryMetricGoal\r\n",
        "from azureml.train.hyperdrive.policy import BanditPolicy\r\n",
        "from azureml.train.hyperdrive.sampling import RandomParameterSampling\r\n",
        "from azureml.train.hyperdrive.runconfig import HyperDriveConfig\r\n",
        "from azureml.train.hyperdrive.parameter_expressions import uniform, choice\r\n",
        "import os"
      ],
      "outputs": [],
      "execution_count": 1,
      "metadata": {
        "gather": {
          "logged": 1628502474793
        },
        "jupyter": {
          "outputs_hidden": false,
          "source_hidden": false
        },
        "nteract": {
          "transient": {
            "deleting": false
          }
        }
      }
    },
    {
      "cell_type": "markdown",
      "source": [
        "## Dataset\n",
        "\n",
        "### Overview\n",
        "TODO: In this markdown cell, give an overview of the dataset you are using. Also mention the task you will be performing.\n",
        "\n",
        "\n",
        "TODO: Get data. In the cell below, write code to access the data you will be using in this project. Remember that the dataset needs to be external."
      ],
      "metadata": {}
    },
    {
      "cell_type": "code",
      "source": [
        "# Transform original dataset and save it as csv file\r\n",
        "import pandas as pd\r\n",
        "\r\n",
        "file ='winequality-red.csv'\r\n",
        "ds= pd.read_csv(file)\r\n",
        "ds[\"quality\"]=ds[\"quality\"].apply(lambda s: 1 if s >= 7 else 0)\t\r\n",
        "\r\n",
        "ds.to_csv(\"winequality-red-transformated2.csv\", index=False)\r\n"
      ],
      "outputs": [],
      "execution_count": 2,
      "metadata": {
        "collapsed": true,
        "jupyter": {
          "source_hidden": false,
          "outputs_hidden": false
        },
        "nteract": {
          "transient": {
            "deleting": false
          }
        },
        "gather": {
          "logged": 1628411014792
        }
      }
    },
    {
      "cell_type": "code",
      "source": [
        "from azureml.core import Workspace, Datastore, Dataset\r\n",
        "\r\n",
        "\r\n",
        "# get existing workspace\r\n",
        "workspace = Workspace.from_config()"
      ],
      "outputs": [],
      "execution_count": 2,
      "metadata": {
        "collapsed": true,
        "jupyter": {
          "source_hidden": false,
          "outputs_hidden": false
        },
        "nteract": {
          "transient": {
            "deleting": false
          }
        },
        "gather": {
          "logged": 1628510813778
        }
      }
    },
    {
      "cell_type": "code",
      "source": [
        "#Get transformed data\r\n",
        "\r\n",
        "from azureml.core import Workspace, Datastore, Dataset\r\n",
        "\r\n",
        "datastore_name = 'workspaceblobstore'\r\n",
        "\r\n",
        "# get existing workspace\r\n",
        "workspace = Workspace.from_config()\r\n",
        "    \r\n",
        "# retrieve an existing datastore in the workspace by name\r\n",
        "datastore = Datastore.get(workspace, datastore_name)\r\n",
        "\r\n",
        "# create a TabularDataset from file paths in datastore\r\n",
        "datastore_paths = [(datastore, 'UI/08-08-2021_082514_UTC/winequality-red-transformated2.csv')]\r\n",
        "\r\n",
        "ds_t = Dataset.Tabular.from_delimited_files(path=datastore_paths)\r\n",
        "\r\n"
      ],
      "outputs": [],
      "execution_count": 3,
      "metadata": {
        "collapsed": true,
        "jupyter": {
          "source_hidden": false,
          "outputs_hidden": false
        },
        "nteract": {
          "transient": {
            "deleting": false
          }
        },
        "gather": {
          "logged": 1628411217288
        }
      }
    },
    {
      "cell_type": "code",
      "source": [
        "ds_t.take(10).to_pandas_dataframe()"
      ],
      "outputs": [
        {
          "output_type": "execute_result",
          "execution_count": 4,
          "data": {
            "text/plain": "   fixed acidity  volatile acidity  citric acid  residual sugar  chlorides  \\\n0            7.4              0.70         0.00             1.9      0.076   \n1            7.8              0.88         0.00             2.6      0.098   \n2            7.8              0.76         0.04             2.3      0.092   \n3           11.2              0.28         0.56             1.9      0.075   \n4            7.4              0.70         0.00             1.9      0.076   \n5            7.4              0.66         0.00             1.8      0.075   \n6            7.9              0.60         0.06             1.6      0.069   \n7            7.3              0.65         0.00             1.2      0.065   \n8            7.8              0.58         0.02             2.0      0.073   \n9            7.5              0.50         0.36             6.1      0.071   \n\n   free sulfur dioxide  total sulfur dioxide  density    pH  sulphates  \\\n0                 11.0                  34.0   0.9978  3.51       0.56   \n1                 25.0                  67.0   0.9968  3.20       0.68   \n2                 15.0                  54.0   0.9970  3.26       0.65   \n3                 17.0                  60.0   0.9980  3.16       0.58   \n4                 11.0                  34.0   0.9978  3.51       0.56   \n5                 13.0                  40.0   0.9978  3.51       0.56   \n6                 15.0                  59.0   0.9964  3.30       0.46   \n7                 15.0                  21.0   0.9946  3.39       0.47   \n8                  9.0                  18.0   0.9968  3.36       0.57   \n9                 17.0                 102.0   0.9978  3.35       0.80   \n\n   alcohol  quality  \n0      9.4        0  \n1      9.8        0  \n2      9.8        0  \n3      9.8        0  \n4      9.4        0  \n5      9.4        0  \n6      9.4        0  \n7     10.0        1  \n8      9.5        1  \n9     10.5        0  ",
            "text/html": "<div>\n<style scoped>\n    .dataframe tbody tr th:only-of-type {\n        vertical-align: middle;\n    }\n\n    .dataframe tbody tr th {\n        vertical-align: top;\n    }\n\n    .dataframe thead th {\n        text-align: right;\n    }\n</style>\n<table border=\"1\" class=\"dataframe\">\n  <thead>\n    <tr style=\"text-align: right;\">\n      <th></th>\n      <th>fixed acidity</th>\n      <th>volatile acidity</th>\n      <th>citric acid</th>\n      <th>residual sugar</th>\n      <th>chlorides</th>\n      <th>free sulfur dioxide</th>\n      <th>total sulfur dioxide</th>\n      <th>density</th>\n      <th>pH</th>\n      <th>sulphates</th>\n      <th>alcohol</th>\n      <th>quality</th>\n    </tr>\n  </thead>\n  <tbody>\n    <tr>\n      <th>0</th>\n      <td>7.4</td>\n      <td>0.70</td>\n      <td>0.00</td>\n      <td>1.9</td>\n      <td>0.076</td>\n      <td>11.0</td>\n      <td>34.0</td>\n      <td>0.9978</td>\n      <td>3.51</td>\n      <td>0.56</td>\n      <td>9.4</td>\n      <td>0</td>\n    </tr>\n    <tr>\n      <th>1</th>\n      <td>7.8</td>\n      <td>0.88</td>\n      <td>0.00</td>\n      <td>2.6</td>\n      <td>0.098</td>\n      <td>25.0</td>\n      <td>67.0</td>\n      <td>0.9968</td>\n      <td>3.20</td>\n      <td>0.68</td>\n      <td>9.8</td>\n      <td>0</td>\n    </tr>\n    <tr>\n      <th>2</th>\n      <td>7.8</td>\n      <td>0.76</td>\n      <td>0.04</td>\n      <td>2.3</td>\n      <td>0.092</td>\n      <td>15.0</td>\n      <td>54.0</td>\n      <td>0.9970</td>\n      <td>3.26</td>\n      <td>0.65</td>\n      <td>9.8</td>\n      <td>0</td>\n    </tr>\n    <tr>\n      <th>3</th>\n      <td>11.2</td>\n      <td>0.28</td>\n      <td>0.56</td>\n      <td>1.9</td>\n      <td>0.075</td>\n      <td>17.0</td>\n      <td>60.0</td>\n      <td>0.9980</td>\n      <td>3.16</td>\n      <td>0.58</td>\n      <td>9.8</td>\n      <td>0</td>\n    </tr>\n    <tr>\n      <th>4</th>\n      <td>7.4</td>\n      <td>0.70</td>\n      <td>0.00</td>\n      <td>1.9</td>\n      <td>0.076</td>\n      <td>11.0</td>\n      <td>34.0</td>\n      <td>0.9978</td>\n      <td>3.51</td>\n      <td>0.56</td>\n      <td>9.4</td>\n      <td>0</td>\n    </tr>\n    <tr>\n      <th>5</th>\n      <td>7.4</td>\n      <td>0.66</td>\n      <td>0.00</td>\n      <td>1.8</td>\n      <td>0.075</td>\n      <td>13.0</td>\n      <td>40.0</td>\n      <td>0.9978</td>\n      <td>3.51</td>\n      <td>0.56</td>\n      <td>9.4</td>\n      <td>0</td>\n    </tr>\n    <tr>\n      <th>6</th>\n      <td>7.9</td>\n      <td>0.60</td>\n      <td>0.06</td>\n      <td>1.6</td>\n      <td>0.069</td>\n      <td>15.0</td>\n      <td>59.0</td>\n      <td>0.9964</td>\n      <td>3.30</td>\n      <td>0.46</td>\n      <td>9.4</td>\n      <td>0</td>\n    </tr>\n    <tr>\n      <th>7</th>\n      <td>7.3</td>\n      <td>0.65</td>\n      <td>0.00</td>\n      <td>1.2</td>\n      <td>0.065</td>\n      <td>15.0</td>\n      <td>21.0</td>\n      <td>0.9946</td>\n      <td>3.39</td>\n      <td>0.47</td>\n      <td>10.0</td>\n      <td>1</td>\n    </tr>\n    <tr>\n      <th>8</th>\n      <td>7.8</td>\n      <td>0.58</td>\n      <td>0.02</td>\n      <td>2.0</td>\n      <td>0.073</td>\n      <td>9.0</td>\n      <td>18.0</td>\n      <td>0.9968</td>\n      <td>3.36</td>\n      <td>0.57</td>\n      <td>9.5</td>\n      <td>1</td>\n    </tr>\n    <tr>\n      <th>9</th>\n      <td>7.5</td>\n      <td>0.50</td>\n      <td>0.36</td>\n      <td>6.1</td>\n      <td>0.071</td>\n      <td>17.0</td>\n      <td>102.0</td>\n      <td>0.9978</td>\n      <td>3.35</td>\n      <td>0.80</td>\n      <td>10.5</td>\n      <td>0</td>\n    </tr>\n  </tbody>\n</table>\n</div>"
          },
          "metadata": {}
        }
      ],
      "execution_count": 4,
      "metadata": {
        "collapsed": true,
        "jupyter": {
          "source_hidden": false,
          "outputs_hidden": false
        },
        "nteract": {
          "transient": {
            "deleting": false
          }
        },
        "gather": {
          "logged": 1628411222833
        }
      }
    },
    {
      "cell_type": "code",
      "source": [
        "#Get existed experiment\n",
        "\n",
        "experiment_name = 'red-wine-quality'\n",
        "\n",
        "experiment=Experiment(workspace, experiment_name)"
      ],
      "outputs": [],
      "execution_count": 3,
      "metadata": {
        "gather": {
          "logged": 1628510828112
        },
        "jupyter": {
          "outputs_hidden": false,
          "source_hidden": false
        },
        "nteract": {
          "transient": {
            "deleting": false
          }
        }
      }
    },
    {
      "cell_type": "markdown",
      "source": [
        "## AutoML Configuration\n",
        "\n",
        "TODO: Explain why you chose the automl settings and cofiguration you used below."
      ],
      "metadata": {}
    },
    {
      "cell_type": "code",
      "source": [
        "from azureml.train.automl import AutoMLConfig\n",
        "\n",
        "automl_config = AutoMLConfig(\n",
        "    compute_target = 'natcluster001',\n",
        "    experiment_timeout_minutes=30,\n",
        "    task= 'classification',\n",
        "    primary_metric='accuracy',\n",
        "    training_data= ds_t,\n",
        "    label_column_name= 'quality',\n",
        "    n_cross_validations= 2)"
      ],
      "outputs": [],
      "execution_count": 6,
      "metadata": {
        "gather": {
          "logged": 1628411256043
        },
        "jupyter": {
          "outputs_hidden": false,
          "source_hidden": false
        },
        "nteract": {
          "transient": {
            "deleting": false
          }
        }
      }
    },
    {
      "cell_type": "code",
      "source": [
        "# Submit  experiment\n",
        "wine_automl_run = experiment.submit(config=automl_config)"
      ],
      "outputs": [
        {
          "output_type": "stream",
          "name": "stdout",
          "text": [
            "Submitting remote run.\n"
          ]
        },
        {
          "output_type": "display_data",
          "data": {
            "text/plain": "<IPython.core.display.HTML object>",
            "text/html": "<table style=\"width:100%\"><tr><th>Experiment</th><th>Id</th><th>Type</th><th>Status</th><th>Details Page</th><th>Docs Page</th></tr><tr><td>red-wine-quality</td><td>AutoML_16b2242a-77dc-407b-ae2e-d37d27d77d00</td><td>automl</td><td>NotStarted</td><td><a href=\"https://ml.azure.com/runs/AutoML_16b2242a-77dc-407b-ae2e-d37d27d77d00?wsid=/subscriptions/3dafc970-6015-4fba-b00d-39dc6a1b7521/resourcegroups/nk_capstoneproject/workspaces/nk_project3&amp;tid=dd951004-cd14-4cb2-8718-3c0bcc7fed4e\" target=\"_blank\" rel=\"noopener\">Link to Azure Machine Learning studio</a></td><td><a href=\"https://docs.microsoft.com/en-us/python/api/overview/azure/ml/intro?view=azure-ml-py\" target=\"_blank\" rel=\"noopener\">Link to Documentation</a></td></tr></table>"
          },
          "metadata": {}
        }
      ],
      "execution_count": 7,
      "metadata": {
        "gather": {
          "logged": 1628411267778
        },
        "jupyter": {
          "outputs_hidden": false,
          "source_hidden": false
        },
        "nteract": {
          "transient": {
            "deleting": false
          }
        }
      }
    },
    {
      "cell_type": "markdown",
      "source": [
        "## Run Details\n",
        "\n",
        "OPTIONAL: Write about the different models trained and their performance. Why do you think some models did better than others?\n",
        "\n",
        "TODO: In the cell below, use the `RunDetails` widget to show the different experiments."
      ],
      "metadata": {}
    },
    {
      "cell_type": "code",
      "source": [
        "RunDetails(wine_automl_run).show()\r\n",
        "\r\n",
        "wine_automl_run.wait_for_completion(show_output=True)"
      ],
      "outputs": [
        {
          "output_type": "display_data",
          "data": {
            "text/plain": "_AutoMLWidget(widget_settings={'childWidgetDisplay': 'popup', 'send_telemetry': False, 'log_level': 'INFO', 's…",
            "application/vnd.jupyter.widget-view+json": {
              "version_major": 2,
              "version_minor": 0,
              "model_id": "a1de684d573d4e28a844b793d9214185"
            }
          },
          "metadata": {}
        },
        {
          "output_type": "display_data",
          "data": {
            "application/aml.mini.widget.v1": "{\"status\": \"Completed\", \"workbench_run_details_uri\": \"https://ml.azure.com/runs/AutoML_16b2242a-77dc-407b-ae2e-d37d27d77d00?wsid=/subscriptions/3dafc970-6015-4fba-b00d-39dc6a1b7521/resourcegroups/nk_capstoneproject/workspaces/nk_project3&tid=dd951004-cd14-4cb2-8718-3c0bcc7fed4e\", \"run_id\": \"AutoML_16b2242a-77dc-407b-ae2e-d37d27d77d00\", \"run_properties\": {\"run_id\": \"AutoML_16b2242a-77dc-407b-ae2e-d37d27d77d00\", \"created_utc\": \"2021-08-08T08:27:45.189132Z\", \"properties\": {\"num_iterations\": \"1000\", \"training_type\": \"TrainFull\", \"acquisition_function\": \"EI\", \"primary_metric\": \"accuracy\", \"train_split\": \"0\", \"acquisition_parameter\": \"0\", \"num_cross_validation\": \"2\", \"target\": \"natcluster001\", \"AMLSettingsJsonString\": \"{\\\"path\\\":null,\\\"name\\\":\\\"red-wine-quality\\\",\\\"subscription_id\\\":\\\"3dafc970-6015-4fba-b00d-39dc6a1b7521\\\",\\\"resource_group\\\":\\\"nk_capstoneproject\\\",\\\"workspace_name\\\":\\\"nk_project3\\\",\\\"region\\\":\\\"westeurope\\\",\\\"compute_target\\\":\\\"natcluster001\\\",\\\"spark_service\\\":null,\\\"azure_service\\\":\\\"remote\\\",\\\"many_models\\\":false,\\\"pipeline_fetch_max_batch_size\\\":1,\\\"enable_batch_run\\\":false,\\\"enable_run_restructure\\\":false,\\\"start_auxiliary_runs_before_parent_complete\\\":false,\\\"enable_code_generation\\\":false,\\\"iterations\\\":1000,\\\"primary_metric\\\":\\\"accuracy\\\",\\\"task_type\\\":\\\"classification\\\",\\\"data_script\\\":null,\\\"test_size\\\":0.0,\\\"validation_size\\\":0.0,\\\"n_cross_validations\\\":2,\\\"y_min\\\":null,\\\"y_max\\\":null,\\\"num_classes\\\":null,\\\"featurization\\\":\\\"auto\\\",\\\"_ignore_package_version_incompatibilities\\\":false,\\\"is_timeseries\\\":false,\\\"max_cores_per_iteration\\\":1,\\\"max_concurrent_iterations\\\":1,\\\"iteration_timeout_minutes\\\":null,\\\"mem_in_mb\\\":null,\\\"enforce_time_on_windows\\\":false,\\\"experiment_timeout_minutes\\\":30,\\\"experiment_exit_score\\\":null,\\\"whitelist_models\\\":null,\\\"blacklist_algos\\\":[\\\"TensorFlowLinearClassifier\\\",\\\"TensorFlowDNN\\\"],\\\"supported_models\\\":[\\\"DecisionTree\\\",\\\"KNN\\\",\\\"ExtremeRandomTrees\\\",\\\"SGD\\\",\\\"SVM\\\",\\\"RandomForest\\\",\\\"BernoulliNaiveBayes\\\",\\\"TensorFlowLinearClassifier\\\",\\\"TensorFlowDNN\\\",\\\"LightGBM\\\",\\\"GradientBoosting\\\",\\\"LinearSVM\\\",\\\"MultinomialNaiveBayes\\\",\\\"AveragedPerceptronClassifier\\\",\\\"XGBoostClassifier\\\",\\\"LogisticRegression\\\"],\\\"private_models\\\":[],\\\"auto_blacklist\\\":true,\\\"blacklist_samples_reached\\\":false,\\\"exclude_nan_labels\\\":true,\\\"verbosity\\\":20,\\\"_debug_log\\\":\\\"azureml_automl.log\\\",\\\"show_warnings\\\":false,\\\"model_explainability\\\":true,\\\"service_url\\\":null,\\\"sdk_url\\\":null,\\\"sdk_packages\\\":null,\\\"enable_onnx_compatible_models\\\":false,\\\"enable_split_onnx_featurizer_estimator_models\\\":false,\\\"vm_type\\\":\\\"STANDARD_D2_V2\\\",\\\"telemetry_verbosity\\\":20,\\\"send_telemetry\\\":true,\\\"enable_dnn\\\":false,\\\"scenario\\\":\\\"SDK-1.13.0\\\",\\\"environment_label\\\":null,\\\"save_mlflow\\\":false,\\\"force_text_dnn\\\":false,\\\"enable_feature_sweeping\\\":true,\\\"enable_early_stopping\\\":false,\\\"early_stopping_n_iters\\\":10,\\\"metrics\\\":null,\\\"enable_metric_confidence\\\":false,\\\"enable_ensembling\\\":true,\\\"enable_stack_ensembling\\\":true,\\\"ensemble_iterations\\\":15,\\\"enable_tf\\\":false,\\\"enable_subsampling\\\":null,\\\"subsample_seed\\\":null,\\\"enable_nimbusml\\\":false,\\\"enable_streaming\\\":false,\\\"force_streaming\\\":false,\\\"track_child_runs\\\":true,\\\"allowed_private_models\\\":[],\\\"label_column_name\\\":\\\"quality\\\",\\\"weight_column_name\\\":null,\\\"cv_split_column_names\\\":null,\\\"enable_local_managed\\\":false,\\\"_local_managed_run_id\\\":null,\\\"cost_mode\\\":1,\\\"lag_length\\\":0,\\\"metric_operation\\\":\\\"maximize\\\",\\\"preprocess\\\":true}\", \"DataPrepJsonString\": \"{\\\\\\\"training_data\\\\\\\": {\\\\\\\"datasetId\\\\\\\": \\\\\\\"df9b1672-395f-49c9-8593-7de8671400ac\\\\\\\"}, \\\\\\\"datasets\\\\\\\": 0}\", \"EnableSubsampling\": null, \"runTemplate\": \"AutoML\", \"azureml.runsource\": \"automl\", \"display_task_type\": \"classification\", \"dependencies_versions\": \"{\\\"azureml-widgets\\\": \\\"1.32.0\\\", \\\"azureml-train\\\": \\\"1.32.0\\\", \\\"azureml-train-restclients-hyperdrive\\\": \\\"1.32.0\\\", \\\"azureml-train-core\\\": \\\"1.32.0\\\", \\\"azureml-train-automl\\\": \\\"1.32.0\\\", \\\"azureml-train-automl-runtime\\\": \\\"1.32.0\\\", \\\"azureml-train-automl-client\\\": \\\"1.32.0\\\", \\\"azureml-tensorboard\\\": \\\"1.32.0\\\", \\\"azureml-telemetry\\\": \\\"1.32.0\\\", \\\"azureml-sdk\\\": \\\"1.32.0\\\", \\\"azureml-samples\\\": \\\"0+unknown\\\", \\\"azureml-responsibleai\\\": \\\"1.32.0\\\", \\\"azureml-pipeline\\\": \\\"1.32.0\\\", \\\"azureml-pipeline-steps\\\": \\\"1.32.0\\\", \\\"azureml-pipeline-core\\\": \\\"1.32.0\\\", \\\"azureml-opendatasets\\\": \\\"1.32.0\\\", \\\"azureml-model-management-sdk\\\": \\\"1.0.1b6.post1\\\", \\\"azureml-mlflow\\\": \\\"1.32.0\\\", \\\"azureml-interpret\\\": \\\"1.32.0\\\", \\\"azureml-explain-model\\\": \\\"1.32.0\\\", \\\"azureml-defaults\\\": \\\"1.32.0\\\", \\\"azureml-dataset-runtime\\\": \\\"1.32.0\\\", \\\"azureml-dataprep\\\": \\\"2.18.0\\\", \\\"azureml-dataprep-rslex\\\": \\\"1.16.1\\\", \\\"azureml-dataprep-native\\\": \\\"36.0.0\\\", \\\"azureml-datadrift\\\": \\\"1.32.0\\\", \\\"azureml-core\\\": \\\"1.32.0\\\", \\\"azureml-contrib-services\\\": \\\"1.32.0\\\", \\\"azureml-contrib-server\\\": \\\"1.32.0\\\", \\\"azureml-contrib-reinforcementlearning\\\": \\\"1.32.0\\\", \\\"azureml-contrib-pipeline-steps\\\": \\\"1.32.0\\\", \\\"azureml-contrib-notebook\\\": \\\"1.32.0\\\", \\\"azureml-contrib-fairness\\\": \\\"1.32.0\\\", \\\"azureml-contrib-dataset\\\": \\\"1.32.0\\\", \\\"azureml-cli-common\\\": \\\"1.32.0\\\", \\\"azureml-automl-runtime\\\": \\\"1.32.0\\\", \\\"azureml-automl-dnn-nlp\\\": \\\"1.32.0\\\", \\\"azureml-automl-core\\\": \\\"1.32.0\\\", \\\"azureml-accel-models\\\": \\\"1.32.0\\\"}\", \"_aml_system_scenario_identification\": \"Remote.Parent\", \"ClientType\": \"SDK\", \"environment_cpu_name\": \"AzureML-AutoML\", \"environment_cpu_label\": \"prod\", \"environment_gpu_name\": \"AzureML-AutoML-GPU\", \"environment_gpu_label\": \"prod\", \"root_attribution\": \"automl\", \"attribution\": \"AutoML\", \"Orchestrator\": \"AutoML\", \"CancelUri\": \"https://westeurope.api.azureml.ms/jasmine/v1.0/subscriptions/3dafc970-6015-4fba-b00d-39dc6a1b7521/resourceGroups/nk_capstoneproject/providers/Microsoft.MachineLearningServices/workspaces/nk_project3/experimentids/dbcc2c30-fb85-4ced-bfad-025e11f00fa1/cancel/AutoML_16b2242a-77dc-407b-ae2e-d37d27d77d00\", \"ClientSdkVersion\": \"1.32.0\", \"snapshotId\": \"00000000-0000-0000-0000-000000000000\", \"SetupRunId\": \"AutoML_16b2242a-77dc-407b-ae2e-d37d27d77d00_setup\", \"SetupRunContainerId\": \"dcid.AutoML_16b2242a-77dc-407b-ae2e-d37d27d77d00_setup\", \"FeaturizationRunJsonPath\": \"featurizer_container.json\", \"FeaturizationRunId\": \"AutoML_16b2242a-77dc-407b-ae2e-d37d27d77d00_featurize\", \"ProblemInfoJsonString\": \"{\\\"dataset_num_categorical\\\": 0, \\\"is_sparse\\\": false, \\\"subsampling\\\": false, \\\"has_extra_col\\\": true, \\\"dataset_classes\\\": 2, \\\"dataset_features\\\": 11, \\\"dataset_samples\\\": 1599, \\\"single_frequency_class_detected\\\": false}\", \"ModelExplainRunId\": \"AutoML_16b2242a-77dc-407b-ae2e-d37d27d77d00_ModelExplain\"}, \"tags\": {\"model_explain_run\": \"best_run\", \"_aml_system_azureml.automlComponent\": \"AutoML\", \"pipeline_id\": \"\", \"score\": \"\", \"predicted_cost\": \"\", \"fit_time\": \"\", \"training_percent\": \"\", \"iteration\": \"\", \"run_preprocessor\": \"\", \"run_algorithm\": \"\", \"dynamic_whitelisting_iterations\": \"<25>;<30>;<35>;\", \"automl_best_child_run_id\": \"AutoML_16b2242a-77dc-407b-ae2e-d37d27d77d00_39\", \"model_explain_best_run_child_id\": \"AutoML_16b2242a-77dc-407b-ae2e-d37d27d77d00_39\"}, \"end_time_utc\": \"2021-08-08T09:03:01.211331Z\", \"status\": \"Completed\", \"log_files\": {}, \"log_groups\": [], \"run_duration\": \"0:35:16\", \"run_number\": \"164\", \"run_queued_details\": {\"status\": \"Completed\", \"details\": null}}, \"child_runs\": [{\"run_id\": \"AutoML_16b2242a-77dc-407b-ae2e-d37d27d77d00_0\", \"run_number\": 168, \"metric\": null, \"status\": \"Completed\", \"run_type\": \"azureml.scriptrun\", \"training_percent\": \"100\", \"start_time\": \"2021-08-08T08:30:59.169248Z\", \"end_time\": \"2021-08-08T08:31:49.344072Z\", \"created_time\": \"2021-08-08T08:30:48.955499Z\", \"created_time_dt\": \"2021-08-08T08:30:48.955499Z\", \"duration\": \"0:01:00\", \"iteration\": \"0\", \"goal\": \"accuracy_max\", \"run_name\": \"MaxAbsScaler, LightGBM\", \"run_properties\": \"copy=True\", \"primary_metric\": 0.90117882, \"best_metric\": 0.90117882}, {\"run_id\": \"AutoML_16b2242a-77dc-407b-ae2e-d37d27d77d00_1\", \"run_number\": 169, \"metric\": null, \"status\": \"Completed\", \"run_type\": \"azureml.scriptrun\", \"training_percent\": \"100\", \"start_time\": \"2021-08-08T08:31:59.089061Z\", \"end_time\": \"2021-08-08T08:32:34.648214Z\", \"created_time\": \"2021-08-08T08:31:50.323185Z\", \"created_time_dt\": \"2021-08-08T08:31:50.323185Z\", \"duration\": \"0:00:44\", \"iteration\": \"1\", \"goal\": \"accuracy_max\", \"run_name\": \"MaxAbsScaler, XGBoostClassifier\", \"run_properties\": \"copy=True\", \"primary_metric\": 0.89492256, \"best_metric\": 0.90117882}, {\"run_id\": \"AutoML_16b2242a-77dc-407b-ae2e-d37d27d77d00_2\", \"run_number\": 170, \"metric\": null, \"status\": \"Completed\", \"run_type\": \"azureml.scriptrun\", \"training_percent\": \"100\", \"start_time\": \"2021-08-08T08:32:45.946884Z\", \"end_time\": \"2021-08-08T08:33:24.760465Z\", \"created_time\": \"2021-08-08T08:32:36.013445Z\", \"created_time_dt\": \"2021-08-08T08:32:36.013445Z\", \"duration\": \"0:00:48\", \"iteration\": \"2\", \"goal\": \"accuracy_max\", \"run_name\": \"MaxAbsScaler, ExtremeRandomTrees\", \"run_properties\": \"copy=True\", \"primary_metric\": 0.77173185, \"best_metric\": 0.90117882}, {\"run_id\": \"AutoML_16b2242a-77dc-407b-ae2e-d37d27d77d00_3\", \"run_number\": 171, \"metric\": null, \"status\": \"Completed\", \"run_type\": \"azureml.scriptrun\", \"training_percent\": \"100\", \"start_time\": \"2021-08-08T08:33:36.400306Z\", \"end_time\": \"2021-08-08T08:34:09.856891Z\", \"created_time\": \"2021-08-08T08:33:26.556106Z\", \"created_time_dt\": \"2021-08-08T08:33:26.556106Z\", \"duration\": \"0:00:43\", \"iteration\": \"3\", \"goal\": \"accuracy_max\", \"run_name\": \"SparseNormalizer, XGBoostClassifier\", \"run_properties\": \"copy=True, norm='l2'\", \"primary_metric\": 0.86303504, \"best_metric\": 0.90117882}, {\"run_id\": \"AutoML_16b2242a-77dc-407b-ae2e-d37d27d77d00_4\", \"run_number\": 172, \"metric\": null, \"status\": \"Completed\", \"run_type\": \"azureml.scriptrun\", \"training_percent\": \"100\", \"start_time\": \"2021-08-08T08:34:19.821336Z\", \"end_time\": \"2021-08-08T08:34:55.636376Z\", \"created_time\": \"2021-08-08T08:34:11.758497Z\", \"created_time_dt\": \"2021-08-08T08:34:11.758497Z\", \"duration\": \"0:00:43\", \"iteration\": \"4\", \"goal\": \"accuracy_max\", \"run_name\": \"StandardScalerWrapper, KNN\", \"run_properties\": \"\\n    copy=True,\\n    with_mean=False,\\n    with_std=False\\n\", \"primary_metric\": 0.87367804, \"best_metric\": 0.90117882}, {\"run_id\": \"AutoML_16b2242a-77dc-407b-ae2e-d37d27d77d00_5\", \"run_number\": 173, \"metric\": null, \"status\": \"Completed\", \"run_type\": \"azureml.scriptrun\", \"training_percent\": \"100\", \"start_time\": \"2021-08-08T08:35:07.371281Z\", \"end_time\": \"2021-08-08T08:35:46.23362Z\", \"created_time\": \"2021-08-08T08:34:57.532741Z\", \"created_time_dt\": \"2021-08-08T08:34:57.532741Z\", \"duration\": \"0:00:48\", \"iteration\": \"5\", \"goal\": \"accuracy_max\", \"run_name\": \"MaxAbsScaler, LightGBM\", \"run_properties\": \"copy=True\", \"primary_metric\": 0.88992334, \"best_metric\": 0.90117882}, {\"run_id\": \"AutoML_16b2242a-77dc-407b-ae2e-d37d27d77d00_6\", \"run_number\": 174, \"metric\": null, \"status\": \"Completed\", \"run_type\": \"azureml.scriptrun\", \"training_percent\": \"100\", \"start_time\": \"2021-08-08T08:35:55.9004Z\", \"end_time\": \"2021-08-08T08:36:30.306316Z\", \"created_time\": \"2021-08-08T08:35:48.249378Z\", \"created_time_dt\": \"2021-08-08T08:35:48.249378Z\", \"duration\": \"0:00:42\", \"iteration\": \"6\", \"goal\": \"accuracy_max\", \"run_name\": \"RobustScaler, LogisticRegression\", \"run_properties\": \"copy=True, quantile_range=[10, 90], with_centering=True,\\n             with_scaling=True\", \"primary_metric\": 0.77798029, \"best_metric\": 0.90117882}, {\"run_id\": \"AutoML_16b2242a-77dc-407b-ae2e-d37d27d77d00_7\", \"run_number\": 175, \"metric\": null, \"status\": \"Completed\", \"run_type\": \"azureml.scriptrun\", \"training_percent\": \"100\", \"start_time\": \"2021-08-08T08:36:40.433504Z\", \"end_time\": \"2021-08-08T08:37:13.479169Z\", \"created_time\": \"2021-08-08T08:36:32.175916Z\", \"created_time_dt\": \"2021-08-08T08:36:32.175916Z\", \"duration\": \"0:00:41\", \"iteration\": \"7\", \"goal\": \"accuracy_max\", \"run_name\": \"MaxAbsScaler, LightGBM\", \"run_properties\": \"copy=True\", \"primary_metric\": 0.86428191, \"best_metric\": 0.90117882}, {\"run_id\": \"AutoML_16b2242a-77dc-407b-ae2e-d37d27d77d00_8\", \"run_number\": 176, \"metric\": null, \"status\": \"Completed\", \"run_type\": \"azureml.scriptrun\", \"training_percent\": \"100\", \"start_time\": \"2021-08-08T08:37:22.507268Z\", \"end_time\": \"2021-08-08T08:37:55.352739Z\", \"created_time\": \"2021-08-08T08:37:15.486054Z\", \"created_time_dt\": \"2021-08-08T08:37:15.486054Z\", \"duration\": \"0:00:39\", \"iteration\": \"8\", \"goal\": \"accuracy_max\", \"run_name\": \"StandardScalerWrapper, KNN\", \"run_properties\": \"\\n    copy=True,\\n    with_mean=False,\\n    with_std=False\\n\", \"primary_metric\": 0.87992412, \"best_metric\": 0.90117882}, {\"run_id\": \"AutoML_16b2242a-77dc-407b-ae2e-d37d27d77d00_9\", \"run_number\": 177, \"metric\": null, \"status\": \"Completed\", \"run_type\": \"azureml.scriptrun\", \"training_percent\": \"100\", \"start_time\": \"2021-08-08T08:38:05.371349Z\", \"end_time\": \"2021-08-08T08:38:40.960234Z\", \"created_time\": \"2021-08-08T08:37:57.475806Z\", \"created_time_dt\": \"2021-08-08T08:37:57.475806Z\", \"duration\": \"0:00:43\", \"iteration\": \"9\", \"goal\": \"accuracy_max\", \"run_name\": \"StandardScalerWrapper, SVM\", \"run_properties\": \"\\n    copy=True,\\n    with_mean=True,\\n    with_std=True\\n\", \"primary_metric\": 0.87803583, \"best_metric\": 0.90117882}, {\"run_id\": \"AutoML_16b2242a-77dc-407b-ae2e-d37d27d77d00_10\", \"run_number\": 178, \"metric\": null, \"status\": \"Completed\", \"run_type\": \"azureml.scriptrun\", \"training_percent\": \"100\", \"start_time\": \"2021-08-08T08:38:49.861484Z\", \"end_time\": \"2021-08-08T08:39:27.964187Z\", \"created_time\": \"2021-08-08T08:38:42.906299Z\", \"created_time_dt\": \"2021-08-08T08:38:42.906299Z\", \"duration\": \"0:00:45\", \"iteration\": \"10\", \"goal\": \"accuracy_max\", \"run_name\": \"StandardScalerWrapper, XGBoostClassifier\", \"run_properties\": \"\\n    copy=True,\\n    with_mean=False,\\n    with_std=False\\n\", \"primary_metric\": 0.8761663, \"best_metric\": 0.90117882}, {\"run_id\": \"AutoML_16b2242a-77dc-407b-ae2e-d37d27d77d00_11\", \"run_number\": 179, \"metric\": null, \"status\": \"Completed\", \"run_type\": \"azureml.scriptrun\", \"training_percent\": \"100\", \"start_time\": \"2021-08-08T08:39:42.245214Z\", \"end_time\": \"2021-08-08T08:40:13.456726Z\", \"created_time\": \"2021-08-08T08:39:30.258208Z\", \"created_time_dt\": \"2021-08-08T08:39:30.258208Z\", \"duration\": \"0:00:43\", \"iteration\": \"11\", \"goal\": \"accuracy_max\", \"run_name\": \"MinMaxScaler, RandomForest\", \"run_properties\": \"copy=True, feature_range=(0, 1\", \"primary_metric\": 0.76920526, \"best_metric\": 0.90117882}, {\"run_id\": \"AutoML_16b2242a-77dc-407b-ae2e-d37d27d77d00_12\", \"run_number\": 180, \"metric\": null, \"status\": \"Completed\", \"run_type\": \"azureml.scriptrun\", \"training_percent\": \"100\", \"start_time\": \"2021-08-08T08:40:24.664359Z\", \"end_time\": \"2021-08-08T08:41:00.77002Z\", \"created_time\": \"2021-08-08T08:40:15.348303Z\", \"created_time_dt\": \"2021-08-08T08:40:15.348303Z\", \"duration\": \"0:00:45\", \"iteration\": \"12\", \"goal\": \"accuracy_max\", \"run_name\": \"StandardScalerWrapper, LogisticRegression\", \"run_properties\": \"\\n    copy=True,\\n    with_mean=True,\\n    with_std=False\\n\", \"primary_metric\": 0.87554521, \"best_metric\": 0.90117882}, {\"run_id\": \"AutoML_16b2242a-77dc-407b-ae2e-d37d27d77d00_13\", \"run_number\": 181, \"metric\": null, \"status\": \"Completed\", \"run_type\": \"azureml.scriptrun\", \"training_percent\": \"100\", \"start_time\": \"2021-08-08T08:41:09.944077Z\", \"end_time\": \"2021-08-08T08:41:45.478942Z\", \"created_time\": \"2021-08-08T08:41:02.504519Z\", \"created_time_dt\": \"2021-08-08T08:41:02.504519Z\", \"duration\": \"0:00:42\", \"iteration\": \"13\", \"goal\": \"accuracy_max\", \"run_name\": \"StandardScalerWrapper, KNN\", \"run_properties\": \"\\n    copy=True,\\n    with_mean=False,\\n    with_std=True\\n\", \"primary_metric\": 0.8980546, \"best_metric\": 0.90117882}, {\"run_id\": \"AutoML_16b2242a-77dc-407b-ae2e-d37d27d77d00_14\", \"run_number\": 182, \"metric\": null, \"status\": \"Completed\", \"run_type\": \"azureml.scriptrun\", \"training_percent\": \"100\", \"start_time\": \"2021-08-08T08:41:57.10926Z\", \"end_time\": \"2021-08-08T08:42:33.15472Z\", \"created_time\": \"2021-08-08T08:41:47.569686Z\", \"created_time_dt\": \"2021-08-08T08:41:47.569686Z\", \"duration\": \"0:00:45\", \"iteration\": \"14\", \"goal\": \"accuracy_max\", \"run_name\": \"RobustScaler, KNN\", \"run_properties\": \"copy=True, quantile_range=[10, 90], with_centering=False,\\n             with_scaling=True\", \"primary_metric\": 0.89367882, \"best_metric\": 0.90117882}, {\"run_id\": \"AutoML_16b2242a-77dc-407b-ae2e-d37d27d77d00_15\", \"run_number\": 183, \"metric\": null, \"status\": \"Completed\", \"run_type\": \"azureml.scriptrun\", \"training_percent\": \"100\", \"start_time\": \"2021-08-08T08:42:43.161969Z\", \"end_time\": \"2021-08-08T08:43:16.08955Z\", \"created_time\": \"2021-08-08T08:42:34.98797Z\", \"created_time_dt\": \"2021-08-08T08:42:34.98797Z\", \"duration\": \"0:00:41\", \"iteration\": \"15\", \"goal\": \"accuracy_max\", \"run_name\": \"MinMaxScaler, KNN\", \"run_properties\": \"copy=True, feature_range=(0, 1\", \"primary_metric\": 0.89118038, \"best_metric\": 0.90117882}, {\"run_id\": \"AutoML_16b2242a-77dc-407b-ae2e-d37d27d77d00_16\", \"run_number\": 184, \"metric\": null, \"status\": \"Completed\", \"run_type\": \"azureml.scriptrun\", \"training_percent\": \"100\", \"start_time\": \"2021-08-08T08:43:25.362283Z\", \"end_time\": \"2021-08-08T08:44:00.838405Z\", \"created_time\": \"2021-08-08T08:43:17.912726Z\", \"created_time_dt\": \"2021-08-08T08:43:17.912726Z\", \"duration\": \"0:00:42\", \"iteration\": \"16\", \"goal\": \"accuracy_max\", \"run_name\": \"SparseNormalizer, KNN\", \"run_properties\": \"copy=True, norm='max'\", \"primary_metric\": 0.88179991, \"best_metric\": 0.90117882}, {\"run_id\": \"AutoML_16b2242a-77dc-407b-ae2e-d37d27d77d00_17\", \"run_number\": 185, \"metric\": null, \"status\": \"Completed\", \"run_type\": \"azureml.scriptrun\", \"training_percent\": \"100\", \"start_time\": \"2021-08-08T08:44:12.519065Z\", \"end_time\": \"2021-08-08T08:44:48.515078Z\", \"created_time\": \"2021-08-08T08:44:02.752558Z\", \"created_time_dt\": \"2021-08-08T08:44:02.752558Z\", \"duration\": \"0:00:45\", \"iteration\": \"17\", \"goal\": \"accuracy_max\", \"run_name\": \"MaxAbsScaler, LogisticRegression\", \"run_properties\": \"copy=True\", \"primary_metric\": 0.86803504, \"best_metric\": 0.90117882}, {\"run_id\": \"AutoML_16b2242a-77dc-407b-ae2e-d37d27d77d00_18\", \"run_number\": 186, \"metric\": null, \"status\": \"Completed\", \"run_type\": \"azureml.scriptrun\", \"training_percent\": \"100\", \"start_time\": \"2021-08-08T08:44:58.38732Z\", \"end_time\": \"2021-08-08T08:45:33.969414Z\", \"created_time\": \"2021-08-08T08:44:50.301495Z\", \"created_time_dt\": \"2021-08-08T08:44:50.301495Z\", \"duration\": \"0:00:43\", \"iteration\": \"18\", \"goal\": \"accuracy_max\", \"run_name\": \"StandardScalerWrapper, XGBoostClassifier\", \"run_properties\": \"\\n    copy=True,\\n    with_mean=False,\\n    with_std=False\\n\", \"primary_metric\": 0.88179756, \"best_metric\": 0.90117882}, {\"run_id\": \"AutoML_16b2242a-77dc-407b-ae2e-d37d27d77d00_19\", \"run_number\": 187, \"metric\": null, \"status\": \"Completed\", \"run_type\": \"azureml.scriptrun\", \"training_percent\": \"100\", \"start_time\": \"2021-08-08T08:45:44.943195Z\", \"end_time\": \"2021-08-08T08:46:20.971975Z\", \"created_time\": \"2021-08-08T08:45:35.746274Z\", \"created_time_dt\": \"2021-08-08T08:45:35.746274Z\", \"duration\": \"0:00:45\", \"iteration\": \"19\", \"goal\": \"accuracy_max\", \"run_name\": \"StandardScalerWrapper, XGBoostClassifier\", \"run_properties\": \"\\n    copy=True,\\n    with_mean=False,\\n    with_std=False\\n\", \"primary_metric\": 0.88554365, \"best_metric\": 0.90117882}, {\"run_id\": \"AutoML_16b2242a-77dc-407b-ae2e-d37d27d77d00_20\", \"run_number\": 188, \"metric\": null, \"status\": \"Completed\", \"run_type\": \"azureml.scriptrun\", \"training_percent\": \"100\", \"start_time\": \"2021-08-08T08:46:30.413691Z\", \"end_time\": \"2021-08-08T08:47:05.913585Z\", \"created_time\": \"2021-08-08T08:46:23.289073Z\", \"created_time_dt\": \"2021-08-08T08:46:23.289073Z\", \"duration\": \"0:00:42\", \"iteration\": \"20\", \"goal\": \"accuracy_max\", \"run_name\": \"MaxAbsScaler, LogisticRegression\", \"run_properties\": \"copy=True\", \"primary_metric\": 0.87178974, \"best_metric\": 0.90117882}, {\"run_id\": \"AutoML_16b2242a-77dc-407b-ae2e-d37d27d77d00_21\", \"run_number\": 189, \"metric\": null, \"status\": \"Completed\", \"run_type\": \"azureml.scriptrun\", \"training_percent\": \"100\", \"start_time\": \"2021-08-08T08:47:15.581001Z\", \"end_time\": \"2021-08-08T08:47:48.517627Z\", \"created_time\": \"2021-08-08T08:47:07.7986Z\", \"created_time_dt\": \"2021-08-08T08:47:07.7986Z\", \"duration\": \"0:00:40\", \"iteration\": \"21\", \"goal\": \"accuracy_max\", \"run_name\": \"StandardScalerWrapper, XGBoostClassifier\", \"run_properties\": \"\\n    copy=True,\\n    with_mean=False,\\n    with_std=False\\n\", \"primary_metric\": 0.88617412, \"best_metric\": 0.90117882}, {\"run_id\": \"AutoML_16b2242a-77dc-407b-ae2e-d37d27d77d00_22\", \"run_number\": 190, \"metric\": null, \"status\": \"Completed\", \"run_type\": \"azureml.scriptrun\", \"training_percent\": \"100\", \"start_time\": \"2021-08-08T08:47:58.027283Z\", \"end_time\": \"2021-08-08T08:48:36.14311Z\", \"created_time\": \"2021-08-08T08:47:51.00695Z\", \"created_time_dt\": \"2021-08-08T08:47:51.00695Z\", \"duration\": \"0:00:45\", \"iteration\": \"22\", \"goal\": \"accuracy_max\", \"run_name\": \"MaxAbsScaler, LightGBM\", \"run_properties\": \"copy=True\", \"primary_metric\": 0.87929443, \"best_metric\": 0.90117882}, {\"run_id\": \"AutoML_16b2242a-77dc-407b-ae2e-d37d27d77d00_23\", \"run_number\": 191, \"metric\": null, \"status\": \"Completed\", \"run_type\": \"azureml.scriptrun\", \"training_percent\": \"100\", \"start_time\": \"2021-08-08T08:48:47.059948Z\", \"end_time\": \"2021-08-08T08:49:23.152395Z\", \"created_time\": \"2021-08-08T08:48:37.805238Z\", \"created_time_dt\": \"2021-08-08T08:48:37.805238Z\", \"duration\": \"0:00:45\", \"iteration\": \"23\", \"goal\": \"accuracy_max\", \"run_name\": \"StandardScalerWrapper, LightGBM\", \"run_properties\": \"\\n    copy=True,\\n    with_mean=False,\\n    with_std=True\\n\", \"primary_metric\": 0.87241474, \"best_metric\": 0.90117882}, {\"run_id\": \"AutoML_16b2242a-77dc-407b-ae2e-d37d27d77d00_24\", \"run_number\": 192, \"metric\": null, \"status\": \"Completed\", \"run_type\": \"azureml.scriptrun\", \"training_percent\": \"100\", \"start_time\": \"2021-08-08T08:49:34.83641Z\", \"end_time\": \"2021-08-08T08:50:08.376727Z\", \"created_time\": \"2021-08-08T08:49:25.069772Z\", \"created_time_dt\": \"2021-08-08T08:49:25.069772Z\", \"duration\": \"0:00:43\", \"iteration\": \"24\", \"goal\": \"accuracy_max\", \"run_name\": \"StandardScalerWrapper, LightGBM\", \"run_properties\": \"\\n    copy=True,\\n    with_mean=True,\\n    with_std=True\\n\", \"primary_metric\": 0.87804287, \"best_metric\": 0.90117882}, {\"run_id\": \"AutoML_16b2242a-77dc-407b-ae2e-d37d27d77d00_25\", \"run_number\": 193, \"metric\": null, \"status\": \"Completed\", \"run_type\": \"azureml.scriptrun\", \"training_percent\": \"100\", \"start_time\": \"2021-08-08T08:50:19.225126Z\", \"end_time\": \"2021-08-08T08:50:54.736282Z\", \"created_time\": \"2021-08-08T08:50:11.183821Z\", \"created_time_dt\": \"2021-08-08T08:50:11.183821Z\", \"duration\": \"0:00:43\", \"iteration\": \"25\", \"goal\": \"accuracy_max\", \"run_name\": \"MinMaxScaler, LightGBM\", \"run_properties\": \"copy=True, feature_range=(0, 1\", \"primary_metric\": 0.87866708, \"best_metric\": 0.90117882}, {\"run_id\": \"AutoML_16b2242a-77dc-407b-ae2e-d37d27d77d00_26\", \"run_number\": 194, \"metric\": null, \"status\": \"Completed\", \"run_type\": \"azureml.scriptrun\", \"training_percent\": \"100\", \"start_time\": \"2021-08-08T08:51:03.462229Z\", \"end_time\": \"2021-08-08T08:51:41.579599Z\", \"created_time\": \"2021-08-08T08:50:56.557846Z\", \"created_time_dt\": \"2021-08-08T08:50:56.557846Z\", \"duration\": \"0:00:45\", \"iteration\": \"26\", \"goal\": \"accuracy_max\", \"run_name\": \"StandardScalerWrapper, LightGBM\", \"run_properties\": \"\\n    copy=True,\\n    with_mean=False,\\n    with_std=False\\n\", \"primary_metric\": 0.86428191, \"best_metric\": 0.90117882}, {\"run_id\": \"AutoML_16b2242a-77dc-407b-ae2e-d37d27d77d00_27\", \"run_number\": 195, \"metric\": null, \"status\": \"Completed\", \"run_type\": \"azureml.scriptrun\", \"training_percent\": \"100\", \"start_time\": \"2021-08-08T08:51:50.957964Z\", \"end_time\": \"2021-08-08T08:52:26.57935Z\", \"created_time\": \"2021-08-08T08:51:43.380957Z\", \"created_time_dt\": \"2021-08-08T08:51:43.380957Z\", \"duration\": \"0:00:43\", \"iteration\": \"27\", \"goal\": \"accuracy_max\", \"run_name\": \"StandardScalerWrapper, LightGBM\", \"run_properties\": \"\\n    copy=True,\\n    with_mean=True,\\n    with_std=True\\n\", \"primary_metric\": 0.86740848, \"best_metric\": 0.90117882}, {\"run_id\": \"AutoML_16b2242a-77dc-407b-ae2e-d37d27d77d00_28\", \"run_number\": 196, \"metric\": null, \"status\": \"Completed\", \"run_type\": \"azureml.scriptrun\", \"training_percent\": \"100\", \"start_time\": \"2021-08-08T08:52:37.815775Z\", \"end_time\": \"2021-08-08T08:53:16.57716Z\", \"created_time\": \"2021-08-08T08:52:28.341221Z\", \"created_time_dt\": \"2021-08-08T08:52:28.341221Z\", \"duration\": \"0:00:48\", \"iteration\": \"28\", \"goal\": \"accuracy_max\", \"run_name\": \"RobustScaler, LightGBM\", \"run_properties\": \"copy=True, quantile_range=[25, 75], with_centering=True,\\n             with_scaling=False\", \"primary_metric\": 0.87679052, \"best_metric\": 0.90117882}, {\"run_id\": \"AutoML_16b2242a-77dc-407b-ae2e-d37d27d77d00_29\", \"run_number\": 197, \"metric\": null, \"status\": \"Completed\", \"run_type\": \"azureml.scriptrun\", \"training_percent\": \"100\", \"start_time\": \"2021-08-08T08:53:27.891517Z\", \"end_time\": \"2021-08-08T08:54:01.254614Z\", \"created_time\": \"2021-08-08T08:53:18.376199Z\", \"created_time_dt\": \"2021-08-08T08:53:18.376199Z\", \"duration\": \"0:00:42\", \"iteration\": \"29\", \"goal\": \"accuracy_max\", \"run_name\": \"StandardScalerWrapper, LightGBM\", \"run_properties\": \"\\n    copy=True,\\n    with_mean=True,\\n    with_std=True\\n\", \"primary_metric\": 0.87554052, \"best_metric\": 0.90117882}, {\"run_id\": \"AutoML_16b2242a-77dc-407b-ae2e-d37d27d77d00_30\", \"run_number\": 198, \"metric\": null, \"status\": \"Completed\", \"run_type\": \"azureml.scriptrun\", \"training_percent\": \"100\", \"start_time\": \"2021-08-08T08:54:14.199656Z\", \"end_time\": \"2021-08-08T08:54:53.005248Z\", \"created_time\": \"2021-08-08T08:54:04.251645Z\", \"created_time_dt\": \"2021-08-08T08:54:04.251645Z\", \"duration\": \"0:00:48\", \"iteration\": \"30\", \"goal\": \"accuracy_max\", \"run_name\": \"MaxAbsScaler, LightGBM\", \"run_properties\": \"copy=True\", \"primary_metric\": 0.86428191, \"best_metric\": 0.90117882}, {\"run_id\": \"AutoML_16b2242a-77dc-407b-ae2e-d37d27d77d00_31\", \"run_number\": 199, \"metric\": null, \"status\": \"Completed\", \"run_type\": \"azureml.scriptrun\", \"training_percent\": \"100\", \"start_time\": \"2021-08-08T08:55:01.916492Z\", \"end_time\": \"2021-08-08T08:55:34.766907Z\", \"created_time\": \"2021-08-08T08:54:54.82288Z\", \"created_time_dt\": \"2021-08-08T08:54:54.82288Z\", \"duration\": \"0:00:39\", \"iteration\": \"31\", \"goal\": \"accuracy_max\", \"run_name\": \"SparseNormalizer, KNN\", \"run_properties\": \"copy=True, norm='l1'\", \"primary_metric\": 0.88492099, \"best_metric\": 0.90117882}, {\"run_id\": \"AutoML_16b2242a-77dc-407b-ae2e-d37d27d77d00_32\", \"run_number\": 200, \"metric\": null, \"status\": \"Completed\", \"run_type\": \"azureml.scriptrun\", \"training_percent\": \"100\", \"start_time\": \"2021-08-08T08:55:46.183629Z\", \"end_time\": \"2021-08-08T08:56:19.583048Z\", \"created_time\": \"2021-08-08T08:55:36.836272Z\", \"created_time_dt\": \"2021-08-08T08:55:36.836272Z\", \"duration\": \"0:00:42\", \"iteration\": \"32\", \"goal\": \"accuracy_max\", \"run_name\": \"StandardScalerWrapper, LightGBM\", \"run_properties\": \"\\n    copy=True,\\n    with_mean=True,\\n    with_std=False\\n\", \"primary_metric\": 0.86428191, \"best_metric\": 0.90117882}, {\"run_id\": \"AutoML_16b2242a-77dc-407b-ae2e-d37d27d77d00_33\", \"run_number\": 201, \"metric\": null, \"status\": \"Completed\", \"run_type\": \"azureml.scriptrun\", \"training_percent\": \"100\", \"start_time\": \"2021-08-08T08:56:28.806254Z\", \"end_time\": \"2021-08-08T08:57:04.371343Z\", \"created_time\": \"2021-08-08T08:56:21.495048Z\", \"created_time_dt\": \"2021-08-08T08:56:21.495048Z\", \"duration\": \"0:00:42\", \"iteration\": \"33\", \"goal\": \"accuracy_max\", \"run_name\": \"SparseNormalizer, LightGBM\", \"run_properties\": \"copy=True, norm='l1'\", \"primary_metric\": 0.87366004, \"best_metric\": 0.90117882}, {\"run_id\": \"AutoML_16b2242a-77dc-407b-ae2e-d37d27d77d00_34\", \"run_number\": 202, \"metric\": null, \"status\": \"Completed\", \"run_type\": \"azureml.scriptrun\", \"training_percent\": \"100\", \"start_time\": \"2021-08-08T08:57:16.23363Z\", \"end_time\": \"2021-08-08T08:57:52.264448Z\", \"created_time\": \"2021-08-08T08:57:06.159989Z\", \"created_time_dt\": \"2021-08-08T08:57:06.159989Z\", \"duration\": \"0:00:46\", \"iteration\": \"34\", \"goal\": \"accuracy_max\", \"run_name\": \"StandardScalerWrapper, KNN\", \"run_properties\": \"\\n    copy=True,\\n    with_mean=False,\\n    with_std=False\\n\", \"primary_metric\": 0.88304912, \"best_metric\": 0.90117882}, {\"run_id\": \"AutoML_16b2242a-77dc-407b-ae2e-d37d27d77d00_35\", \"run_number\": 203, \"metric\": null, \"status\": \"Completed\", \"run_type\": \"azureml.scriptrun\", \"training_percent\": \"100\", \"start_time\": \"2021-08-08T08:58:04.020872Z\", \"end_time\": \"2021-08-08T08:58:39.494825Z\", \"created_time\": \"2021-08-08T08:57:55.07851Z\", \"created_time_dt\": \"2021-08-08T08:57:55.07851Z\", \"duration\": \"0:00:44\", \"iteration\": \"35\", \"goal\": \"accuracy_max\", \"run_name\": \"RobustScaler, LightGBM\", \"run_properties\": \"copy=True, quantile_range=[10, 90], with_centering=False,\\n             with_scaling=False\", \"primary_metric\": 0.86428191, \"best_metric\": 0.90117882}, {\"run_id\": \"AutoML_16b2242a-77dc-407b-ae2e-d37d27d77d00_36\", \"run_number\": 204, \"metric\": null, \"status\": \"Completed\", \"run_type\": \"azureml.scriptrun\", \"training_percent\": \"100\", \"start_time\": \"2021-08-08T08:58:50.328535Z\", \"end_time\": \"2021-08-08T08:59:26.040802Z\", \"created_time\": \"2021-08-08T08:58:41.400161Z\", \"created_time_dt\": \"2021-08-08T08:58:41.400161Z\", \"duration\": \"0:00:44\", \"iteration\": \"36\", \"goal\": \"accuracy_max\", \"run_name\": \"StandardScalerWrapper, GradientBoosting\", \"run_properties\": \"\\n    copy=True,\\n    with_mean=True,\\n    with_std=True\\n\", \"primary_metric\": 0.87929599, \"best_metric\": 0.90117882}, {\"run_id\": \"AutoML_16b2242a-77dc-407b-ae2e-d37d27d77d00_37\", \"run_number\": 205, \"metric\": null, \"status\": \"Completed\", \"run_type\": \"azureml.scriptrun\", \"training_percent\": \"100\", \"start_time\": \"2021-08-08T08:59:36.893631Z\", \"end_time\": \"2021-08-08T09:00:12.307093Z\", \"created_time\": \"2021-08-08T08:59:28.258099Z\", \"created_time_dt\": \"2021-08-08T08:59:28.258099Z\", \"duration\": \"0:00:44\", \"iteration\": \"37\", \"goal\": \"accuracy_max\", \"run_name\": \"RobustScaler, KNN\", \"run_properties\": \"copy=True, quantile_range=[25, 75], with_centering=True,\\n             with_scaling=False\", \"primary_metric\": 0.88367178, \"best_metric\": 0.90117882}, {\"run_id\": \"AutoML_16b2242a-77dc-407b-ae2e-d37d27d77d00_38\", \"run_number\": 206, \"metric\": null, \"status\": \"Completed\", \"run_type\": \"azureml.scriptrun\", \"training_percent\": \"100\", \"start_time\": \"2021-08-08T09:00:23.422138Z\", \"end_time\": \"2021-08-08T09:00:56.836782Z\", \"created_time\": \"2021-08-08T09:00:14.13265Z\", \"created_time_dt\": \"2021-08-08T09:00:14.13265Z\", \"duration\": \"0:00:42\", \"iteration\": \"38\", \"goal\": \"accuracy_max\", \"run_name\": \"SparseNormalizer, XGBoostClassifier\", \"run_properties\": \"copy=True, norm='l1'\", \"primary_metric\": 0.87491943, \"best_metric\": 0.90117882}, {\"run_id\": \"AutoML_16b2242a-77dc-407b-ae2e-d37d27d77d00_39\", \"run_number\": 207, \"metric\": null, \"status\": \"Completed\", \"run_type\": \"azureml.scriptrun\", \"training_percent\": \"100\", \"start_time\": \"2021-08-08T09:01:05.760684Z\", \"end_time\": \"2021-08-08T09:01:55.105004Z\", \"created_time\": \"2021-08-08T09:00:57.76265Z\", \"created_time_dt\": \"2021-08-08T09:00:57.76265Z\", \"duration\": \"0:00:57\", \"iteration\": \"39\", \"goal\": \"accuracy_max\", \"run_name\": \"VotingEnsemble\", \"run_properties\": \"\\n    estimators=[('0', Pipeline(memory=None,\\n             steps=[('maxabsscaler', MaxAbsScaler(copy=True\", \"primary_metric\": 0.91243586, \"best_metric\": 0.91243586}, {\"run_id\": \"AutoML_16b2242a-77dc-407b-ae2e-d37d27d77d00_40\", \"run_number\": 208, \"metric\": null, \"status\": \"Completed\", \"run_type\": \"azureml.scriptrun\", \"training_percent\": \"100\", \"start_time\": \"2021-08-08T09:02:04.202518Z\", \"end_time\": \"2021-08-08T09:02:59.344198Z\", \"created_time\": \"2021-08-08T09:01:56.121416Z\", \"created_time_dt\": \"2021-08-08T09:01:56.121416Z\", \"duration\": \"0:01:03\", \"iteration\": \"40\", \"goal\": \"accuracy_max\", \"run_name\": \"StackEnsemble\", \"run_properties\": \"\\n    base_learners=[('0', Pipeline(memory=None,\\n             steps=[('maxabsscaler', MaxAbsScaler(copy=True\", \"primary_metric\": 0.88617256, \"best_metric\": 0.91243586}], \"children_metrics\": {\"categories\": [0], \"series\": {\"f1_score_micro\": [{\"categories\": [\"0\", \"1\", \"2\", \"3\", \"4\", \"5\", \"6\", \"7\", \"8\", \"9\", \"10\", \"11\", \"12\", \"13\", \"14\", \"15\", \"16\", \"17\", \"18\", \"19\", \"20\", \"21\", \"22\", \"23\", \"24\", \"25\", \"26\", \"27\", \"28\", \"29\", \"30\", \"31\", \"32\", \"33\", \"34\", \"35\", \"36\", \"37\", \"38\", \"39\", \"40\"], \"mode\": \"markers\", \"name\": \"f1_score_micro\", \"stepped\": false, \"type\": \"scatter\", \"data\": [0.9011788172715894, 0.8949225594493115, 0.7717318523153942, 0.8630350438047559, 0.8736780350438047, 0.8899233416770964, 0.7779802878598248, 0.8642819148936169, 0.8799241239048812, 0.8780358260325407, 0.8761663016270338, 0.7692052565707135, 0.8755452127659575, 0.8980545994993743, 0.8936788172715895, 0.891180381727159, 0.8817999061326658, 0.8680350438047559, 0.8817975594493116, 0.885543648310388, 0.8717897371714642, 0.8861741239048813, 0.8792944305381727, 0.8724147371714643, 0.8780428660826032, 0.8786670838548185, 0.8642819148936169, 0.8674084793491865, 0.8767905193992491, 0.875540519399249, 0.8642819148936169, 0.8849209949937421, 0.8642819148936169, 0.8736600438047559, 0.8830491239048812, 0.8642819148936169, 0.8792959949937422, 0.8836717772215269, 0.8749194305381727, 0.9124358573216521, 0.8861725594493115]}, {\"categories\": [\"0\", \"1\", \"2\", \"3\", \"4\", \"5\", \"6\", \"7\", \"8\", \"9\", \"10\", \"11\", \"12\", \"13\", \"14\", \"15\", \"16\", \"17\", \"18\", \"19\", \"20\", \"21\", \"22\", \"23\", \"24\", \"25\", \"26\", \"27\", \"28\", \"29\", \"30\", \"31\", \"32\", \"33\", \"34\", \"35\", \"36\", \"37\", \"38\", \"39\", \"40\"], \"mode\": \"lines\", \"name\": \"f1_score_micro_max\", \"stepped\": true, \"type\": \"scatter\", \"data\": [0.9011788172715894, 0.9011788172715894, 0.9011788172715894, 0.9011788172715894, 0.9011788172715894, 0.9011788172715894, 0.9011788172715894, 0.9011788172715894, 0.9011788172715894, 0.9011788172715894, 0.9011788172715894, 0.9011788172715894, 0.9011788172715894, 0.9011788172715894, 0.9011788172715894, 0.9011788172715894, 0.9011788172715894, 0.9011788172715894, 0.9011788172715894, 0.9011788172715894, 0.9011788172715894, 0.9011788172715894, 0.9011788172715894, 0.9011788172715894, 0.9011788172715894, 0.9011788172715894, 0.9011788172715894, 0.9011788172715894, 0.9011788172715894, 0.9011788172715894, 0.9011788172715894, 0.9011788172715894, 0.9011788172715894, 0.9011788172715894, 0.9011788172715894, 0.9011788172715894, 0.9011788172715894, 0.9011788172715894, 0.9011788172715894, 0.9124358573216521, 0.9124358573216521]}], \"AUC_weighted\": [{\"categories\": [\"0\", \"1\", \"2\", \"3\", \"4\", \"5\", \"6\", \"7\", \"8\", \"9\", \"10\", \"11\", \"12\", \"13\", \"14\", \"15\", \"16\", \"17\", \"18\", \"19\", \"20\", \"21\", \"22\", \"23\", \"24\", \"25\", \"26\", \"27\", \"28\", \"29\", \"30\", \"31\", \"32\", \"33\", \"34\", \"35\", \"36\", \"37\", \"38\", \"39\", \"40\"], \"mode\": \"markers\", \"name\": \"AUC_weighted\", \"stepped\": false, \"type\": \"scatter\", \"data\": [0.8939965755030015, 0.8896404200191892, 0.8666168503600533, 0.7879074065523646, 0.7803857842785179, 0.8756155478782764, 0.8610074145294115, 0.8792889528863329, 0.8032575247293487, 0.8587290773524091, 0.8554331121588907, 0.8708962141920619, 0.8584171878907421, 0.9026628021746657, 0.8462536472608146, 0.8609804907382761, 0.7797757174765332, 0.8520356986434594, 0.8575636275123423, 0.8618125430162009, 0.8573630734345019, 0.8441063919283148, 0.8780433742124302, 0.8715956757262986, 0.8822637476307769, 0.873111539739073, 0.868763212927202, 0.8751199021589531, 0.8764035478444772, 0.8715031387114927, 0.8358998413342209, 0.8195685011058218, 0.8589662461264044, 0.831557586584156, 0.819827931172469, 0.8802435906489292, 0.867474015750091, 0.8269325565822105, 0.8278415124219624, 0.898779308103332, 0.9001119326564211]}, {\"categories\": [\"0\", \"1\", \"2\", \"3\", \"4\", \"5\", \"6\", \"7\", \"8\", \"9\", \"10\", \"11\", \"12\", \"13\", \"14\", \"15\", \"16\", \"17\", \"18\", \"19\", \"20\", \"21\", \"22\", \"23\", \"24\", \"25\", \"26\", \"27\", \"28\", \"29\", \"30\", \"31\", \"32\", \"33\", \"34\", \"35\", \"36\", \"37\", \"38\", \"39\", \"40\"], \"mode\": \"lines\", \"name\": \"AUC_weighted_max\", \"stepped\": true, \"type\": \"scatter\", \"data\": [0.8939965755030015, 0.8939965755030015, 0.8939965755030015, 0.8939965755030015, 0.8939965755030015, 0.8939965755030015, 0.8939965755030015, 0.8939965755030015, 0.8939965755030015, 0.8939965755030015, 0.8939965755030015, 0.8939965755030015, 0.8939965755030015, 0.9026628021746657, 0.9026628021746657, 0.9026628021746657, 0.9026628021746657, 0.9026628021746657, 0.9026628021746657, 0.9026628021746657, 0.9026628021746657, 0.9026628021746657, 0.9026628021746657, 0.9026628021746657, 0.9026628021746657, 0.9026628021746657, 0.9026628021746657, 0.9026628021746657, 0.9026628021746657, 0.9026628021746657, 0.9026628021746657, 0.9026628021746657, 0.9026628021746657, 0.9026628021746657, 0.9026628021746657, 0.9026628021746657, 0.9026628021746657, 0.9026628021746657, 0.9026628021746657, 0.9026628021746657, 0.9026628021746657]}], \"precision_score_weighted\": [{\"categories\": [\"0\", \"1\", \"2\", \"3\", \"4\", \"5\", \"6\", \"7\", \"8\", \"9\", \"10\", \"11\", \"12\", \"13\", \"14\", \"15\", \"16\", \"17\", \"18\", \"19\", \"20\", \"21\", \"22\", \"23\", \"24\", \"25\", \"26\", \"27\", \"28\", \"29\", \"30\", \"31\", \"32\", \"33\", \"34\", \"35\", \"36\", \"37\", \"38\", \"39\", \"40\"], \"mode\": \"markers\", \"name\": \"precision_score_weighted\", \"stepped\": false, \"type\": \"scatter\", \"data\": [0.8921154867911851, 0.8827601417188946, 0.8800080962920058, 0.8317953161889002, 0.8641503701174786, 0.8767935924164787, 0.8803120101660248, 0.747157946186057, 0.8675924780413393, 0.858640227613783, 0.8531709522379712, 0.8823156767710335, 0.8534896542816135, 0.8879020757148125, 0.8894321428316245, 0.8835401565199691, 0.8747824850884038, 0.8347880317996108, 0.8752350005989216, 0.8695262358452827, 0.8508245347686405, 0.8696621243010794, 0.8847338558100091, 0.8831009081718135, 0.8771366101277949, 0.869373399332434, 0.747157946186057, 0.8669951085723746, 0.8633039907755544, 0.8758107285781318, 0.747157946186057, 0.8863722104207465, 0.747157946186057, 0.8737588206301429, 0.880786968153564, 0.747157946186057, 0.8703032435855185, 0.8825468990229629, 0.8621566453862614, 0.9065040656219019, 0.8776507510666942]}, {\"categories\": [\"0\", \"1\", \"2\", \"3\", \"4\", \"5\", \"6\", \"7\", \"8\", \"9\", \"10\", \"11\", \"12\", \"13\", \"14\", \"15\", \"16\", \"17\", \"18\", \"19\", \"20\", \"21\", \"22\", \"23\", \"24\", \"25\", \"26\", \"27\", \"28\", \"29\", \"30\", \"31\", \"32\", \"33\", \"34\", \"35\", \"36\", \"37\", \"38\", \"39\", \"40\"], \"mode\": \"lines\", \"name\": \"precision_score_weighted_max\", \"stepped\": true, \"type\": \"scatter\", \"data\": [0.8921154867911851, 0.8921154867911851, 0.8921154867911851, 0.8921154867911851, 0.8921154867911851, 0.8921154867911851, 0.8921154867911851, 0.8921154867911851, 0.8921154867911851, 0.8921154867911851, 0.8921154867911851, 0.8921154867911851, 0.8921154867911851, 0.8921154867911851, 0.8921154867911851, 0.8921154867911851, 0.8921154867911851, 0.8921154867911851, 0.8921154867911851, 0.8921154867911851, 0.8921154867911851, 0.8921154867911851, 0.8921154867911851, 0.8921154867911851, 0.8921154867911851, 0.8921154867911851, 0.8921154867911851, 0.8921154867911851, 0.8921154867911851, 0.8921154867911851, 0.8921154867911851, 0.8921154867911851, 0.8921154867911851, 0.8921154867911851, 0.8921154867911851, 0.8921154867911851, 0.8921154867911851, 0.8921154867911851, 0.8921154867911851, 0.9065040656219019, 0.9065040656219019]}], \"AUC_macro\": [{\"categories\": [\"0\", \"1\", \"2\", \"3\", \"4\", \"5\", \"6\", \"7\", \"8\", \"9\", \"10\", \"11\", \"12\", \"13\", \"14\", \"15\", \"16\", \"17\", \"18\", \"19\", \"20\", \"21\", \"22\", \"23\", \"24\", \"25\", \"26\", \"27\", \"28\", \"29\", \"30\", \"31\", \"32\", \"33\", \"34\", \"35\", \"36\", \"37\", \"38\", \"39\", \"40\"], \"mode\": \"markers\", \"name\": \"AUC_macro\", \"stepped\": false, \"type\": \"scatter\", \"data\": [0.8939965755030016, 0.8896404200191892, 0.8666168503600535, 0.7879074065523645, 0.7803857842785178, 0.8756155478782764, 0.8610074145294115, 0.879288952886333, 0.8032575247293487, 0.858729077352409, 0.8554331121588907, 0.8708962141920619, 0.8584171878907421, 0.9026628021746657, 0.8462536472608148, 0.8609804907382762, 0.7797757174765332, 0.8520356986434593, 0.8575636275123423, 0.8618125430162009, 0.8573630734345019, 0.8441063919283148, 0.8780433742124302, 0.8715956757262985, 0.8822637476307769, 0.873111539739073, 0.868763212927202, 0.8751199021589531, 0.8764035478444772, 0.8715031387114927, 0.8358998413342209, 0.8195685011058219, 0.8589662461264043, 0.831557586584156, 0.8198279311724689, 0.8802435906489292, 0.8674740157500909, 0.8269325565822105, 0.8278415124219624, 0.898779308103332, 0.9001119326564211]}, {\"categories\": [\"0\", \"1\", \"2\", \"3\", \"4\", \"5\", \"6\", \"7\", \"8\", \"9\", \"10\", \"11\", \"12\", \"13\", \"14\", \"15\", \"16\", \"17\", \"18\", \"19\", \"20\", \"21\", \"22\", \"23\", \"24\", \"25\", \"26\", \"27\", \"28\", \"29\", \"30\", \"31\", \"32\", \"33\", \"34\", \"35\", \"36\", \"37\", \"38\", \"39\", \"40\"], \"mode\": \"lines\", \"name\": \"AUC_macro_max\", \"stepped\": true, \"type\": \"scatter\", \"data\": [0.8939965755030016, 0.8939965755030016, 0.8939965755030016, 0.8939965755030016, 0.8939965755030016, 0.8939965755030016, 0.8939965755030016, 0.8939965755030016, 0.8939965755030016, 0.8939965755030016, 0.8939965755030016, 0.8939965755030016, 0.8939965755030016, 0.9026628021746657, 0.9026628021746657, 0.9026628021746657, 0.9026628021746657, 0.9026628021746657, 0.9026628021746657, 0.9026628021746657, 0.9026628021746657, 0.9026628021746657, 0.9026628021746657, 0.9026628021746657, 0.9026628021746657, 0.9026628021746657, 0.9026628021746657, 0.9026628021746657, 0.9026628021746657, 0.9026628021746657, 0.9026628021746657, 0.9026628021746657, 0.9026628021746657, 0.9026628021746657, 0.9026628021746657, 0.9026628021746657, 0.9026628021746657, 0.9026628021746657, 0.9026628021746657, 0.9026628021746657, 0.9026628021746657]}], \"average_precision_score_macro\": [{\"categories\": [\"0\", \"1\", \"2\", \"3\", \"4\", \"5\", \"6\", \"7\", \"8\", \"9\", \"10\", \"11\", \"12\", \"13\", \"14\", \"15\", \"16\", \"17\", \"18\", \"19\", \"20\", \"21\", \"22\", \"23\", \"24\", \"25\", \"26\", \"27\", \"28\", \"29\", \"30\", \"31\", \"32\", \"33\", \"34\", \"35\", \"36\", \"37\", \"38\", \"39\", \"40\"], \"mode\": \"markers\", \"name\": \"average_precision_score_macro\", \"stepped\": false, \"type\": \"scatter\", \"data\": [0.7997503433311608, 0.7695372681392771, 0.7464522938964484, 0.6778584896881158, 0.7293085264857886, 0.7682962959892141, 0.728124256445825, 0.7699438175192391, 0.7379422779456182, 0.766063364057614, 0.7488700681531182, 0.7637166012787037, 0.7217711565707804, 0.8234969456249572, 0.7747916621422062, 0.7916751509958875, 0.7202360161521779, 0.7179016053788249, 0.7578534893810888, 0.7641651353653764, 0.7216175506411491, 0.7421883446920781, 0.7699547518829918, 0.7600922070886986, 0.7752453908060964, 0.7586996331189859, 0.7616264024105622, 0.7639838467703901, 0.7629031612853253, 0.7607010028480898, 0.7009365733093162, 0.7474104139589495, 0.7380177159216924, 0.7267316275019287, 0.7514265922317793, 0.7729190633982574, 0.7520415257458518, 0.7581725921548119, 0.7230394954554348, 0.8359745657592326, 0.8203558033794114]}, {\"categories\": [\"0\", \"1\", \"2\", \"3\", \"4\", \"5\", \"6\", \"7\", \"8\", \"9\", \"10\", \"11\", \"12\", \"13\", \"14\", \"15\", \"16\", \"17\", \"18\", \"19\", \"20\", \"21\", \"22\", \"23\", \"24\", \"25\", \"26\", \"27\", \"28\", \"29\", \"30\", \"31\", \"32\", \"33\", \"34\", \"35\", \"36\", \"37\", \"38\", \"39\", \"40\"], \"mode\": \"lines\", \"name\": \"average_precision_score_macro_max\", \"stepped\": true, \"type\": \"scatter\", \"data\": [0.7997503433311608, 0.7997503433311608, 0.7997503433311608, 0.7997503433311608, 0.7997503433311608, 0.7997503433311608, 0.7997503433311608, 0.7997503433311608, 0.7997503433311608, 0.7997503433311608, 0.7997503433311608, 0.7997503433311608, 0.7997503433311608, 0.8234969456249572, 0.8234969456249572, 0.8234969456249572, 0.8234969456249572, 0.8234969456249572, 0.8234969456249572, 0.8234969456249572, 0.8234969456249572, 0.8234969456249572, 0.8234969456249572, 0.8234969456249572, 0.8234969456249572, 0.8234969456249572, 0.8234969456249572, 0.8234969456249572, 0.8234969456249572, 0.8234969456249572, 0.8234969456249572, 0.8234969456249572, 0.8234969456249572, 0.8234969456249572, 0.8234969456249572, 0.8234969456249572, 0.8234969456249572, 0.8234969456249572, 0.8234969456249572, 0.8359745657592326, 0.8359745657592326]}], \"AUC_micro\": [{\"categories\": [\"0\", \"1\", \"2\", \"3\", \"4\", \"5\", \"6\", \"7\", \"8\", \"9\", \"10\", \"11\", \"12\", \"13\", \"14\", \"15\", \"16\", \"17\", \"18\", \"19\", \"20\", \"21\", \"22\", \"23\", \"24\", \"25\", \"26\", \"27\", \"28\", \"29\", \"30\", \"31\", \"32\", \"33\", \"34\", \"35\", \"36\", \"37\", \"38\", \"39\", \"40\"], \"mode\": \"markers\", \"name\": \"AUC_micro\", \"stepped\": false, \"type\": \"scatter\", \"data\": [0.9609886838819273, 0.9582238724208509, 0.8674757597889101, 0.9320387582510836, 0.9315708971259347, 0.9543130650506597, 0.8651015395838587, 0.9526694657261854, 0.9390276133297781, 0.9504752854752048, 0.9493157967364458, 0.8669352492741631, 0.9473320273657837, 0.9648294385173366, 0.9455110510221535, 0.952699748577158, 0.9334642958821631, 0.9469896167901326, 0.9490397449607006, 0.9507169321672428, 0.94688263005932, 0.9461971988804841, 0.953584761003468, 0.9512379466665054, 0.9544055196523227, 0.952432542489458, 0.9503616967651406, 0.9519652170361477, 0.9534171058298879, 0.9515387127504402, 0.9426264612692982, 0.9446044453740673, 0.9478988010058529, 0.9425794840228752, 0.9442039273133676, 0.953150564072875, 0.9506148643250871, 0.9460217287569352, 0.9420525570686078, 0.9636177246599316, 0.9630243679753694]}, {\"categories\": [\"0\", \"1\", \"2\", \"3\", \"4\", \"5\", \"6\", \"7\", \"8\", \"9\", \"10\", \"11\", \"12\", \"13\", \"14\", \"15\", \"16\", \"17\", \"18\", \"19\", \"20\", \"21\", \"22\", \"23\", \"24\", \"25\", \"26\", \"27\", \"28\", \"29\", \"30\", \"31\", \"32\", \"33\", \"34\", \"35\", \"36\", \"37\", \"38\", \"39\", \"40\"], \"mode\": \"lines\", \"name\": \"AUC_micro_max\", \"stepped\": true, \"type\": \"scatter\", \"data\": [0.9609886838819273, 0.9609886838819273, 0.9609886838819273, 0.9609886838819273, 0.9609886838819273, 0.9609886838819273, 0.9609886838819273, 0.9609886838819273, 0.9609886838819273, 0.9609886838819273, 0.9609886838819273, 0.9609886838819273, 0.9609886838819273, 0.9648294385173366, 0.9648294385173366, 0.9648294385173366, 0.9648294385173366, 0.9648294385173366, 0.9648294385173366, 0.9648294385173366, 0.9648294385173366, 0.9648294385173366, 0.9648294385173366, 0.9648294385173366, 0.9648294385173366, 0.9648294385173366, 0.9648294385173366, 0.9648294385173366, 0.9648294385173366, 0.9648294385173366, 0.9648294385173366, 0.9648294385173366, 0.9648294385173366, 0.9648294385173366, 0.9648294385173366, 0.9648294385173366, 0.9648294385173366, 0.9648294385173366, 0.9648294385173366, 0.9648294385173366, 0.9648294385173366]}], \"weighted_accuracy\": [{\"categories\": [\"0\", \"1\", \"2\", \"3\", \"4\", \"5\", \"6\", \"7\", \"8\", \"9\", \"10\", \"11\", \"12\", \"13\", \"14\", \"15\", \"16\", \"17\", \"18\", \"19\", \"20\", \"21\", \"22\", \"23\", \"24\", \"25\", \"26\", \"27\", \"28\", \"29\", \"30\", \"31\", \"32\", \"33\", \"34\", \"35\", \"36\", \"37\", \"38\", \"39\", \"40\"], \"mode\": \"markers\", \"name\": \"weighted_accuracy\", \"stepped\": false, \"type\": \"scatter\", \"data\": [0.9535886696796966, 0.9553627724810676, 0.7666704852494631, 0.958730394558216, 0.9436473464360687, 0.9647535606428334, 0.7742283250548908, 0.9755845417903398, 0.9546797967899164, 0.9583431800127253, 0.9575906897121451, 0.7609554875071138, 0.9493144056074196, 0.9673921928396366, 0.9369397308606058, 0.9418890698875506, 0.9627389978750435, 0.963217371869854, 0.974128078927885, 0.9644329399463432, 0.9438167167437442, 0.9612026891077736, 0.977172732680606, 0.9765370691760573, 0.975720816820725, 0.9734366564907286, 0.9755845417903398, 0.9755382463600903, 0.9719122364595294, 0.9758623461099711, 0.9755845417903398, 0.9744860069142625, 0.9755845417903398, 0.9759670893389664, 0.9664883402502406, 0.9755845417903398, 0.9736833126356863, 0.9695094282603904, 0.9656826422802703, 0.9716447722395987, 0.9384937469509842]}, {\"categories\": [\"0\", \"1\", \"2\", \"3\", \"4\", \"5\", \"6\", \"7\", \"8\", \"9\", \"10\", \"11\", \"12\", \"13\", \"14\", \"15\", \"16\", \"17\", \"18\", \"19\", \"20\", \"21\", \"22\", \"23\", \"24\", \"25\", \"26\", \"27\", \"28\", \"29\", \"30\", \"31\", \"32\", \"33\", \"34\", \"35\", \"36\", \"37\", \"38\", \"39\", \"40\"], \"mode\": \"lines\", \"name\": \"weighted_accuracy_max\", \"stepped\": true, \"type\": \"scatter\", \"data\": [0.9535886696796966, 0.9553627724810676, 0.9553627724810676, 0.958730394558216, 0.958730394558216, 0.9647535606428334, 0.9647535606428334, 0.9755845417903398, 0.9755845417903398, 0.9755845417903398, 0.9755845417903398, 0.9755845417903398, 0.9755845417903398, 0.9755845417903398, 0.9755845417903398, 0.9755845417903398, 0.9755845417903398, 0.9755845417903398, 0.9755845417903398, 0.9755845417903398, 0.9755845417903398, 0.9755845417903398, 0.977172732680606, 0.977172732680606, 0.977172732680606, 0.977172732680606, 0.977172732680606, 0.977172732680606, 0.977172732680606, 0.977172732680606, 0.977172732680606, 0.977172732680606, 0.977172732680606, 0.977172732680606, 0.977172732680606, 0.977172732680606, 0.977172732680606, 0.977172732680606, 0.977172732680606, 0.977172732680606, 0.977172732680606]}], \"precision_score_micro\": [{\"categories\": [\"0\", \"1\", \"2\", \"3\", \"4\", \"5\", \"6\", \"7\", \"8\", \"9\", \"10\", \"11\", \"12\", \"13\", \"14\", \"15\", \"16\", \"17\", \"18\", \"19\", \"20\", \"21\", \"22\", \"23\", \"24\", \"25\", \"26\", \"27\", \"28\", \"29\", \"30\", \"31\", \"32\", \"33\", \"34\", \"35\", \"36\", \"37\", \"38\", \"39\", \"40\"], \"mode\": \"markers\", \"name\": \"precision_score_micro\", \"stepped\": false, \"type\": \"scatter\", \"data\": [0.9011788172715895, 0.8949225594493115, 0.7717318523153942, 0.8630350438047559, 0.8736780350438047, 0.8899233416770964, 0.7779802878598248, 0.8642819148936169, 0.8799241239048812, 0.8780358260325407, 0.8761663016270338, 0.7692052565707135, 0.8755452127659575, 0.8980545994993743, 0.8936788172715895, 0.891180381727159, 0.8817999061326658, 0.8680350438047559, 0.8817975594493116, 0.885543648310388, 0.8717897371714644, 0.8861741239048812, 0.8792944305381727, 0.8724147371714643, 0.8780428660826032, 0.8786670838548185, 0.8642819148936169, 0.8674084793491865, 0.8767905193992491, 0.875540519399249, 0.8642819148936169, 0.8849209949937422, 0.8642819148936169, 0.8736600438047559, 0.8830491239048811, 0.8642819148936169, 0.8792959949937422, 0.8836717772215269, 0.8749194305381727, 0.912435857321652, 0.8861725594493116]}, {\"categories\": [\"0\", \"1\", \"2\", \"3\", \"4\", \"5\", \"6\", \"7\", \"8\", \"9\", \"10\", \"11\", \"12\", \"13\", \"14\", \"15\", \"16\", \"17\", \"18\", \"19\", \"20\", \"21\", \"22\", \"23\", \"24\", \"25\", \"26\", \"27\", \"28\", \"29\", \"30\", \"31\", \"32\", \"33\", \"34\", \"35\", \"36\", \"37\", \"38\", \"39\", \"40\"], \"mode\": \"lines\", \"name\": \"precision_score_micro_max\", \"stepped\": true, \"type\": \"scatter\", \"data\": [0.9011788172715895, 0.9011788172715895, 0.9011788172715895, 0.9011788172715895, 0.9011788172715895, 0.9011788172715895, 0.9011788172715895, 0.9011788172715895, 0.9011788172715895, 0.9011788172715895, 0.9011788172715895, 0.9011788172715895, 0.9011788172715895, 0.9011788172715895, 0.9011788172715895, 0.9011788172715895, 0.9011788172715895, 0.9011788172715895, 0.9011788172715895, 0.9011788172715895, 0.9011788172715895, 0.9011788172715895, 0.9011788172715895, 0.9011788172715895, 0.9011788172715895, 0.9011788172715895, 0.9011788172715895, 0.9011788172715895, 0.9011788172715895, 0.9011788172715895, 0.9011788172715895, 0.9011788172715895, 0.9011788172715895, 0.9011788172715895, 0.9011788172715895, 0.9011788172715895, 0.9011788172715895, 0.9011788172715895, 0.9011788172715895, 0.912435857321652, 0.912435857321652]}], \"recall_score_weighted\": [{\"categories\": [\"0\", \"1\", \"2\", \"3\", \"4\", \"5\", \"6\", \"7\", \"8\", \"9\", \"10\", \"11\", \"12\", \"13\", \"14\", \"15\", \"16\", \"17\", \"18\", \"19\", \"20\", \"21\", \"22\", \"23\", \"24\", \"25\", \"26\", \"27\", \"28\", \"29\", \"30\", \"31\", \"32\", \"33\", \"34\", \"35\", \"36\", \"37\", \"38\", \"39\", \"40\"], \"mode\": \"markers\", \"name\": \"recall_score_weighted\", \"stepped\": false, \"type\": \"scatter\", \"data\": [0.9011788172715895, 0.8949225594493115, 0.7717318523153942, 0.8630350438047559, 0.8736780350438047, 0.8899233416770964, 0.7779802878598248, 0.8642819148936169, 0.8799241239048812, 0.8780358260325407, 0.8761663016270338, 0.7692052565707135, 0.8755452127659575, 0.8980545994993743, 0.8936788172715895, 0.891180381727159, 0.8817999061326658, 0.8680350438047559, 0.8817975594493116, 0.885543648310388, 0.8717897371714644, 0.8861741239048812, 0.8792944305381727, 0.8724147371714643, 0.8780428660826032, 0.8786670838548185, 0.8642819148936169, 0.8674084793491865, 0.8767905193992491, 0.875540519399249, 0.8642819148936169, 0.8849209949937422, 0.8642819148936169, 0.8736600438047559, 0.8830491239048811, 0.8642819148936169, 0.8792959949937422, 0.8836717772215269, 0.8749194305381727, 0.912435857321652, 0.8861725594493116]}, {\"categories\": [\"0\", \"1\", \"2\", \"3\", \"4\", \"5\", \"6\", \"7\", \"8\", \"9\", \"10\", \"11\", \"12\", \"13\", \"14\", \"15\", \"16\", \"17\", \"18\", \"19\", \"20\", \"21\", \"22\", \"23\", \"24\", \"25\", \"26\", \"27\", \"28\", \"29\", \"30\", \"31\", \"32\", \"33\", \"34\", \"35\", \"36\", \"37\", \"38\", \"39\", \"40\"], \"mode\": \"lines\", \"name\": \"recall_score_weighted_max\", \"stepped\": true, \"type\": \"scatter\", \"data\": [0.9011788172715895, 0.9011788172715895, 0.9011788172715895, 0.9011788172715895, 0.9011788172715895, 0.9011788172715895, 0.9011788172715895, 0.9011788172715895, 0.9011788172715895, 0.9011788172715895, 0.9011788172715895, 0.9011788172715895, 0.9011788172715895, 0.9011788172715895, 0.9011788172715895, 0.9011788172715895, 0.9011788172715895, 0.9011788172715895, 0.9011788172715895, 0.9011788172715895, 0.9011788172715895, 0.9011788172715895, 0.9011788172715895, 0.9011788172715895, 0.9011788172715895, 0.9011788172715895, 0.9011788172715895, 0.9011788172715895, 0.9011788172715895, 0.9011788172715895, 0.9011788172715895, 0.9011788172715895, 0.9011788172715895, 0.9011788172715895, 0.9011788172715895, 0.9011788172715895, 0.9011788172715895, 0.9011788172715895, 0.9011788172715895, 0.912435857321652, 0.912435857321652]}], \"log_loss\": [{\"categories\": [\"0\", \"1\", \"2\", \"3\", \"4\", \"5\", \"6\", \"7\", \"8\", \"9\", \"10\", \"11\", \"12\", \"13\", \"14\", \"15\", \"16\", \"17\", \"18\", \"19\", \"20\", \"21\", \"22\", \"23\", \"24\", \"25\", \"26\", \"27\", \"28\", \"29\", \"30\", \"31\", \"32\", \"33\", \"34\", \"35\", \"36\", \"37\", \"38\", \"39\", \"40\"], \"mode\": \"markers\", \"name\": \"log_loss\", \"stepped\": false, \"type\": \"scatter\", \"data\": [0.3296939262431009, 0.2635973956718179, 0.5177429997271169, 0.40853096355348384, 1.4078573835603345, 0.27748577853223216, 0.4763227444943473, 0.3161881905533074, 0.9889512383604719, 0.2856176980838716, 0.3796597677053467, 0.4953885540742266, 0.29567447607131203, 0.31260926206707274, 1.191527783160789, 0.791424636370058, 1.0045932267266493, 0.2979481762631939, 0.39525932290651455, 0.38680235615826575, 0.29828759839666297, 0.38716043244094367, 0.2894528390071014, 0.30075467853085747, 0.2914356727007755, 0.2884641527324564, 0.32207764544843986, 0.3049523174201849, 0.28488259043121666, 0.2979503309875977, 0.3993448084736303, 0.3888586039788582, 0.33315397513326533, 0.3104899814847003, 0.6540831117949601, 0.3220070364822908, 0.2919325441767914, 0.5930132686451821, 0.4012187296871084, 0.2545138675884685, 0.260744787573106]}, {\"categories\": [\"0\", \"1\", \"2\", \"3\", \"4\", \"5\", \"6\", \"7\", \"8\", \"9\", \"10\", \"11\", \"12\", \"13\", \"14\", \"15\", \"16\", \"17\", \"18\", \"19\", \"20\", \"21\", \"22\", \"23\", \"24\", \"25\", \"26\", \"27\", \"28\", \"29\", \"30\", \"31\", \"32\", \"33\", \"34\", \"35\", \"36\", \"37\", \"38\", \"39\", \"40\"], \"mode\": \"lines\", \"name\": \"log_loss_min\", \"stepped\": true, \"type\": \"scatter\", \"data\": [0.3296939262431009, 0.2635973956718179, 0.2635973956718179, 0.2635973956718179, 0.2635973956718179, 0.2635973956718179, 0.2635973956718179, 0.2635973956718179, 0.2635973956718179, 0.2635973956718179, 0.2635973956718179, 0.2635973956718179, 0.2635973956718179, 0.2635973956718179, 0.2635973956718179, 0.2635973956718179, 0.2635973956718179, 0.2635973956718179, 0.2635973956718179, 0.2635973956718179, 0.2635973956718179, 0.2635973956718179, 0.2635973956718179, 0.2635973956718179, 0.2635973956718179, 0.2635973956718179, 0.2635973956718179, 0.2635973956718179, 0.2635973956718179, 0.2635973956718179, 0.2635973956718179, 0.2635973956718179, 0.2635973956718179, 0.2635973956718179, 0.2635973956718179, 0.2635973956718179, 0.2635973956718179, 0.2635973956718179, 0.2635973956718179, 0.2545138675884685, 0.2545138675884685]}], \"recall_score_micro\": [{\"categories\": [\"0\", \"1\", \"2\", \"3\", \"4\", \"5\", \"6\", \"7\", \"8\", \"9\", \"10\", \"11\", \"12\", \"13\", \"14\", \"15\", \"16\", \"17\", \"18\", \"19\", \"20\", \"21\", \"22\", \"23\", \"24\", \"25\", \"26\", \"27\", \"28\", \"29\", \"30\", \"31\", \"32\", \"33\", \"34\", \"35\", \"36\", \"37\", \"38\", \"39\", \"40\"], \"mode\": \"markers\", \"name\": \"recall_score_micro\", \"stepped\": false, \"type\": \"scatter\", \"data\": [0.9011788172715895, 0.8949225594493115, 0.7717318523153942, 0.8630350438047559, 0.8736780350438047, 0.8899233416770964, 0.7779802878598248, 0.8642819148936169, 0.8799241239048812, 0.8780358260325407, 0.8761663016270338, 0.7692052565707135, 0.8755452127659575, 0.8980545994993743, 0.8936788172715895, 0.891180381727159, 0.8817999061326658, 0.8680350438047559, 0.8817975594493116, 0.885543648310388, 0.8717897371714644, 0.8861741239048812, 0.8792944305381727, 0.8724147371714643, 0.8780428660826032, 0.8786670838548185, 0.8642819148936169, 0.8674084793491865, 0.8767905193992491, 0.875540519399249, 0.8642819148936169, 0.8849209949937422, 0.8642819148936169, 0.8736600438047559, 0.8830491239048811, 0.8642819148936169, 0.8792959949937422, 0.8836717772215269, 0.8749194305381727, 0.912435857321652, 0.8861725594493116]}, {\"categories\": [\"0\", \"1\", \"2\", \"3\", \"4\", \"5\", \"6\", \"7\", \"8\", \"9\", \"10\", \"11\", \"12\", \"13\", \"14\", \"15\", \"16\", \"17\", \"18\", \"19\", \"20\", \"21\", \"22\", \"23\", \"24\", \"25\", \"26\", \"27\", \"28\", \"29\", \"30\", \"31\", \"32\", \"33\", \"34\", \"35\", \"36\", \"37\", \"38\", \"39\", \"40\"], \"mode\": \"lines\", \"name\": \"recall_score_micro_max\", \"stepped\": true, \"type\": \"scatter\", \"data\": [0.9011788172715895, 0.9011788172715895, 0.9011788172715895, 0.9011788172715895, 0.9011788172715895, 0.9011788172715895, 0.9011788172715895, 0.9011788172715895, 0.9011788172715895, 0.9011788172715895, 0.9011788172715895, 0.9011788172715895, 0.9011788172715895, 0.9011788172715895, 0.9011788172715895, 0.9011788172715895, 0.9011788172715895, 0.9011788172715895, 0.9011788172715895, 0.9011788172715895, 0.9011788172715895, 0.9011788172715895, 0.9011788172715895, 0.9011788172715895, 0.9011788172715895, 0.9011788172715895, 0.9011788172715895, 0.9011788172715895, 0.9011788172715895, 0.9011788172715895, 0.9011788172715895, 0.9011788172715895, 0.9011788172715895, 0.9011788172715895, 0.9011788172715895, 0.9011788172715895, 0.9011788172715895, 0.9011788172715895, 0.9011788172715895, 0.912435857321652, 0.912435857321652]}], \"balanced_accuracy\": [{\"categories\": [\"0\", \"1\", \"2\", \"3\", \"4\", \"5\", \"6\", \"7\", \"8\", \"9\", \"10\", \"11\", \"12\", \"13\", \"14\", \"15\", \"16\", \"17\", \"18\", \"19\", \"20\", \"21\", \"22\", \"23\", \"24\", \"25\", \"26\", \"27\", \"28\", \"29\", \"30\", \"31\", \"32\", \"33\", \"34\", \"35\", \"36\", \"37\", \"38\", \"39\", \"40\"], \"mode\": \"markers\", \"name\": \"balanced_accuracy\", \"stepped\": false, \"type\": \"scatter\", \"data\": [0.730794176645017, 0.6992960432036063, 0.7876108135561917, 0.5522457914789848, 0.6466024443965621, 0.6438946946299888, 0.788954128660011, 0.5, 0.6379737365031483, 0.6147605409685242, 0.6079979213907786, 0.795035856222831, 0.6302309171531861, 0.6709135363547127, 0.7517087818033196, 0.7254673023055376, 0.6194131926274784, 0.5557909702342476, 0.5772139197559366, 0.6293139478013428, 0.6324033032016225, 0.6386511655944429, 0.5579496969728062, 0.5303946578631453, 0.5581378064046132, 0.5680717799940489, 0.5, 0.5135879351740695, 0.5647854654682385, 0.5466276681612816, 0.5, 0.5936395925891724, 0.5, 0.5403926741636826, 0.6127194467530601, 0.5, 0.5679101982673411, 0.6056465321171203, 0.5791389632776187, 0.7198625817848506, 0.7160320110950362]}, {\"categories\": [\"0\", \"1\", \"2\", \"3\", \"4\", \"5\", \"6\", \"7\", \"8\", \"9\", \"10\", \"11\", \"12\", \"13\", \"14\", \"15\", \"16\", \"17\", \"18\", \"19\", \"20\", \"21\", \"22\", \"23\", \"24\", \"25\", \"26\", \"27\", \"28\", \"29\", \"30\", \"31\", \"32\", \"33\", \"34\", \"35\", \"36\", \"37\", \"38\", \"39\", \"40\"], \"mode\": \"lines\", \"name\": \"balanced_accuracy_max\", \"stepped\": true, \"type\": \"scatter\", \"data\": [0.730794176645017, 0.730794176645017, 0.7876108135561917, 0.7876108135561917, 0.7876108135561917, 0.7876108135561917, 0.788954128660011, 0.788954128660011, 0.788954128660011, 0.788954128660011, 0.788954128660011, 0.795035856222831, 0.795035856222831, 0.795035856222831, 0.795035856222831, 0.795035856222831, 0.795035856222831, 0.795035856222831, 0.795035856222831, 0.795035856222831, 0.795035856222831, 0.795035856222831, 0.795035856222831, 0.795035856222831, 0.795035856222831, 0.795035856222831, 0.795035856222831, 0.795035856222831, 0.795035856222831, 0.795035856222831, 0.795035856222831, 0.795035856222831, 0.795035856222831, 0.795035856222831, 0.795035856222831, 0.795035856222831, 0.795035856222831, 0.795035856222831, 0.795035856222831, 0.795035856222831, 0.795035856222831]}], \"recall_score_macro\": [{\"categories\": [\"0\", \"1\", \"2\", \"3\", \"4\", \"5\", \"6\", \"7\", \"8\", \"9\", \"10\", \"11\", \"12\", \"13\", \"14\", \"15\", \"16\", \"17\", \"18\", \"19\", \"20\", \"21\", \"22\", \"23\", \"24\", \"25\", \"26\", \"27\", \"28\", \"29\", \"30\", \"31\", \"32\", \"33\", \"34\", \"35\", \"36\", \"37\", \"38\", \"39\", \"40\"], \"mode\": \"markers\", \"name\": \"recall_score_macro\", \"stepped\": false, \"type\": \"scatter\", \"data\": [0.730794176645017, 0.6992960432036063, 0.7876108135561917, 0.5522457914789848, 0.6466024443965621, 0.6438946946299888, 0.788954128660011, 0.5, 0.6379737365031483, 0.6147605409685242, 0.6079979213907786, 0.795035856222831, 0.6302309171531861, 0.6709135363547127, 0.7517087818033196, 0.7254673023055376, 0.6194131926274784, 0.5557909702342476, 0.5772139197559366, 0.6293139478013428, 0.6324033032016225, 0.6386511655944429, 0.5579496969728062, 0.5303946578631453, 0.5581378064046132, 0.5680717799940489, 0.5, 0.5135879351740695, 0.5647854654682385, 0.5466276681612816, 0.5, 0.5936395925891724, 0.5, 0.5403926741636826, 0.6127194467530601, 0.5, 0.5679101982673411, 0.6056465321171203, 0.5791389632776187, 0.7198625817848506, 0.7160320110950362]}, {\"categories\": [\"0\", \"1\", \"2\", \"3\", \"4\", \"5\", \"6\", \"7\", \"8\", \"9\", \"10\", \"11\", \"12\", \"13\", \"14\", \"15\", \"16\", \"17\", \"18\", \"19\", \"20\", \"21\", \"22\", \"23\", \"24\", \"25\", \"26\", \"27\", \"28\", \"29\", \"30\", \"31\", \"32\", \"33\", \"34\", \"35\", \"36\", \"37\", \"38\", \"39\", \"40\"], \"mode\": \"lines\", \"name\": \"recall_score_macro_max\", \"stepped\": true, \"type\": \"scatter\", \"data\": [0.730794176645017, 0.730794176645017, 0.7876108135561917, 0.7876108135561917, 0.7876108135561917, 0.7876108135561917, 0.788954128660011, 0.788954128660011, 0.788954128660011, 0.788954128660011, 0.788954128660011, 0.795035856222831, 0.795035856222831, 0.795035856222831, 0.795035856222831, 0.795035856222831, 0.795035856222831, 0.795035856222831, 0.795035856222831, 0.795035856222831, 0.795035856222831, 0.795035856222831, 0.795035856222831, 0.795035856222831, 0.795035856222831, 0.795035856222831, 0.795035856222831, 0.795035856222831, 0.795035856222831, 0.795035856222831, 0.795035856222831, 0.795035856222831, 0.795035856222831, 0.795035856222831, 0.795035856222831, 0.795035856222831, 0.795035856222831, 0.795035856222831, 0.795035856222831, 0.795035856222831, 0.795035856222831]}], \"average_precision_score_micro\": [{\"categories\": [\"0\", \"1\", \"2\", \"3\", \"4\", \"5\", \"6\", \"7\", \"8\", \"9\", \"10\", \"11\", \"12\", \"13\", \"14\", \"15\", \"16\", \"17\", \"18\", \"19\", \"20\", \"21\", \"22\", \"23\", \"24\", \"25\", \"26\", \"27\", \"28\", \"29\", \"30\", \"31\", \"32\", \"33\", \"34\", \"35\", \"36\", \"37\", \"38\", \"39\", \"40\"], \"mode\": \"markers\", \"name\": \"average_precision_score_micro\", \"stepped\": false, \"type\": \"scatter\", \"data\": [0.961236004885714, 0.9593088997033214, 0.8738620006977942, 0.9239659231022557, 0.9153090709240642, 0.955083032479247, 0.8593096439895783, 0.9530554658191687, 0.9284211773312876, 0.9477268547769043, 0.9496677670502109, 0.8754448432118922, 0.9439993024924582, 0.9641542962962146, 0.9318169736820343, 0.9449151715108555, 0.9217481010922113, 0.9452166689354082, 0.9470919000130896, 0.9487856583061811, 0.9423399939443164, 0.9418134279094318, 0.9546798052163894, 0.9516339396874995, 0.9553520868731559, 0.9534843216816672, 0.9515060234000436, 0.9526513506942669, 0.9547175992329648, 0.9522864421350328, 0.9369650249747945, 0.9430130642958527, 0.9463631171609941, 0.9419211113747175, 0.9378523576864009, 0.9542303331088846, 0.9498163284294037, 0.9403500398048169, 0.9379588498446364, 0.9633487749827769, 0.9636173937963135]}, {\"categories\": [\"0\", \"1\", \"2\", \"3\", \"4\", \"5\", \"6\", \"7\", \"8\", \"9\", \"10\", \"11\", \"12\", \"13\", \"14\", \"15\", \"16\", \"17\", \"18\", \"19\", \"20\", \"21\", \"22\", \"23\", \"24\", \"25\", \"26\", \"27\", \"28\", \"29\", \"30\", \"31\", \"32\", \"33\", \"34\", \"35\", \"36\", \"37\", \"38\", \"39\", \"40\"], \"mode\": \"lines\", \"name\": \"average_precision_score_micro_max\", \"stepped\": true, \"type\": \"scatter\", \"data\": [0.961236004885714, 0.961236004885714, 0.961236004885714, 0.961236004885714, 0.961236004885714, 0.961236004885714, 0.961236004885714, 0.961236004885714, 0.961236004885714, 0.961236004885714, 0.961236004885714, 0.961236004885714, 0.961236004885714, 0.9641542962962146, 0.9641542962962146, 0.9641542962962146, 0.9641542962962146, 0.9641542962962146, 0.9641542962962146, 0.9641542962962146, 0.9641542962962146, 0.9641542962962146, 0.9641542962962146, 0.9641542962962146, 0.9641542962962146, 0.9641542962962146, 0.9641542962962146, 0.9641542962962146, 0.9641542962962146, 0.9641542962962146, 0.9641542962962146, 0.9641542962962146, 0.9641542962962146, 0.9641542962962146, 0.9641542962962146, 0.9641542962962146, 0.9641542962962146, 0.9641542962962146, 0.9641542962962146, 0.9641542962962146, 0.9641542962962146]}], \"f1_score_macro\": [{\"categories\": [\"0\", \"1\", \"2\", \"3\", \"4\", \"5\", \"6\", \"7\", \"8\", \"9\", \"10\", \"11\", \"12\", \"13\", \"14\", \"15\", \"16\", \"17\", \"18\", \"19\", \"20\", \"21\", \"22\", \"23\", \"24\", \"25\", \"26\", \"27\", \"28\", \"29\", \"30\", \"31\", \"32\", \"33\", \"34\", \"35\", \"36\", \"37\", \"38\", \"39\", \"40\"], \"mode\": \"markers\", \"name\": \"f1_score_macro\", \"stepped\": false, \"type\": \"scatter\", \"data\": [0.7608563242626514, 0.7335399471144748, 0.6710875686829478, 0.5580203582567385, 0.6732403556576873, 0.6847423112325981, 0.6761255875762459, 0.4635734729173363, 0.6682228934303356, 0.6478278112574551, 0.6374529449176698, 0.67316337110078, 0.6568114788650372, 0.7161881906591536, 0.762727006760122, 0.7453997007405271, 0.6510590020922655, 0.5676215475322217, 0.5993422357098721, 0.6657203437924835, 0.657054848636848, 0.6755231131558329, 0.5710051188905181, 0.5224169982522742, 0.5715991469387056, 0.5873924308771679, 0.4635734729173363, 0.4913722026945377, 0.5820648688065084, 0.5522102410164906, 0.4635734729173363, 0.6234519840789541, 0.4635734729173363, 0.5399289446867408, 0.6438475009948149, 0.4635734729173363, 0.5847325892867878, 0.635562613625496, 0.6009165960766238, 0.7687017295595606, 0.73461023649031]}, {\"categories\": [\"0\", \"1\", \"2\", \"3\", \"4\", \"5\", \"6\", \"7\", \"8\", \"9\", \"10\", \"11\", \"12\", \"13\", \"14\", \"15\", \"16\", \"17\", \"18\", \"19\", \"20\", \"21\", \"22\", \"23\", \"24\", \"25\", \"26\", \"27\", \"28\", \"29\", \"30\", \"31\", \"32\", \"33\", \"34\", \"35\", \"36\", \"37\", \"38\", \"39\", \"40\"], \"mode\": \"lines\", \"name\": \"f1_score_macro_max\", \"stepped\": true, \"type\": \"scatter\", \"data\": [0.7608563242626514, 0.7608563242626514, 0.7608563242626514, 0.7608563242626514, 0.7608563242626514, 0.7608563242626514, 0.7608563242626514, 0.7608563242626514, 0.7608563242626514, 0.7608563242626514, 0.7608563242626514, 0.7608563242626514, 0.7608563242626514, 0.7608563242626514, 0.762727006760122, 0.762727006760122, 0.762727006760122, 0.762727006760122, 0.762727006760122, 0.762727006760122, 0.762727006760122, 0.762727006760122, 0.762727006760122, 0.762727006760122, 0.762727006760122, 0.762727006760122, 0.762727006760122, 0.762727006760122, 0.762727006760122, 0.762727006760122, 0.762727006760122, 0.762727006760122, 0.762727006760122, 0.762727006760122, 0.762727006760122, 0.762727006760122, 0.762727006760122, 0.762727006760122, 0.762727006760122, 0.7687017295595606, 0.7687017295595606]}], \"average_precision_score_weighted\": [{\"categories\": [\"0\", \"1\", \"2\", \"3\", \"4\", \"5\", \"6\", \"7\", \"8\", \"9\", \"10\", \"11\", \"12\", \"13\", \"14\", \"15\", \"16\", \"17\", \"18\", \"19\", \"20\", \"21\", \"22\", \"23\", \"24\", \"25\", \"26\", \"27\", \"28\", \"29\", \"30\", \"31\", \"32\", \"33\", \"34\", \"35\", \"36\", \"37\", \"38\", \"39\", \"40\"], \"mode\": \"markers\", \"name\": \"average_precision_score_weighted\", \"stepped\": false, \"type\": \"scatter\", \"data\": [0.9309434286354983, 0.9228981280230546, 0.914009745219148, 0.8769910776977043, 0.884010987279437, 0.9202255840843655, 0.9051407734501503, 0.9199564671909719, 0.8935474458719963, 0.9136813517814193, 0.9118993455639175, 0.9176504254961415, 0.9027794680846539, 0.9381096456774043, 0.909283365594957, 0.9184241252231256, 0.8838612632273402, 0.9014896139869955, 0.9124951358729756, 0.9145003320139231, 0.9010838261731425, 0.9043827063719414, 0.9215972539131362, 0.9169446020881993, 0.9233806096176536, 0.9174673179262551, 0.9171975771546765, 0.9186306954657112, 0.9193394910172048, 0.9175513069510937, 0.8915706446153662, 0.9054804121019364, 0.9073230352174197, 0.9020262615874588, 0.9028206116033306, 0.9222937440265178, 0.9131363480123592, 0.905981695080734, 0.8984070306543142, 0.9411339553515461, 0.9379231716543023]}, {\"categories\": [\"0\", \"1\", \"2\", \"3\", \"4\", \"5\", \"6\", \"7\", \"8\", \"9\", \"10\", \"11\", \"12\", \"13\", \"14\", \"15\", \"16\", \"17\", \"18\", \"19\", \"20\", \"21\", \"22\", \"23\", \"24\", \"25\", \"26\", \"27\", \"28\", \"29\", \"30\", \"31\", \"32\", \"33\", \"34\", \"35\", \"36\", \"37\", \"38\", \"39\", \"40\"], \"mode\": \"lines\", \"name\": \"average_precision_score_weighted_max\", \"stepped\": true, \"type\": \"scatter\", \"data\": [0.9309434286354983, 0.9309434286354983, 0.9309434286354983, 0.9309434286354983, 0.9309434286354983, 0.9309434286354983, 0.9309434286354983, 0.9309434286354983, 0.9309434286354983, 0.9309434286354983, 0.9309434286354983, 0.9309434286354983, 0.9309434286354983, 0.9381096456774043, 0.9381096456774043, 0.9381096456774043, 0.9381096456774043, 0.9381096456774043, 0.9381096456774043, 0.9381096456774043, 0.9381096456774043, 0.9381096456774043, 0.9381096456774043, 0.9381096456774043, 0.9381096456774043, 0.9381096456774043, 0.9381096456774043, 0.9381096456774043, 0.9381096456774043, 0.9381096456774043, 0.9381096456774043, 0.9381096456774043, 0.9381096456774043, 0.9381096456774043, 0.9381096456774043, 0.9381096456774043, 0.9381096456774043, 0.9381096456774043, 0.9381096456774043, 0.9411339553515461, 0.9411339553515461]}], \"norm_macro_recall\": [{\"categories\": [\"0\", \"1\", \"2\", \"3\", \"4\", \"5\", \"6\", \"7\", \"8\", \"9\", \"10\", \"11\", \"12\", \"13\", \"14\", \"15\", \"16\", \"17\", \"18\", \"19\", \"20\", \"21\", \"22\", \"23\", \"24\", \"25\", \"26\", \"27\", \"28\", \"29\", \"30\", \"31\", \"32\", \"33\", \"34\", \"35\", \"36\", \"37\", \"38\", \"39\", \"40\"], \"mode\": \"markers\", \"name\": \"norm_macro_recall\", \"stepped\": false, \"type\": \"scatter\", \"data\": [0.461588353290034, 0.39859208640721255, 0.5752216271123834, 0.10449158295796956, 0.2932048887931241, 0.28778938925997755, 0.5779082573200219, 0.0, 0.2759474730062965, 0.22952108193704834, 0.21599584278155715, 0.590071712445662, 0.26046183430637215, 0.3418270727094256, 0.5034175636066391, 0.45093460461107526, 0.2388263852549567, 0.11158194046849512, 0.15442783951187322, 0.2586278956026855, 0.26480660640324505, 0.2773023311888858, 0.11589939394561244, 0.06078931572629054, 0.11627561280922627, 0.1361435599880978, 0.0, 0.027175870348139175, 0.1295709309364771, 0.09325533632256322, 0.0, 0.18727918517834474, 0.0, 0.08078534832736517, 0.22543889350612034, 0.0, 0.13582039653468225, 0.21129306423424066, 0.15827792655523742, 0.43972516356970126, 0.43206402219007256]}, {\"categories\": [\"0\", \"1\", \"2\", \"3\", \"4\", \"5\", \"6\", \"7\", \"8\", \"9\", \"10\", \"11\", \"12\", \"13\", \"14\", \"15\", \"16\", \"17\", \"18\", \"19\", \"20\", \"21\", \"22\", \"23\", \"24\", \"25\", \"26\", \"27\", \"28\", \"29\", \"30\", \"31\", \"32\", \"33\", \"34\", \"35\", \"36\", \"37\", \"38\", \"39\", \"40\"], \"mode\": \"lines\", \"name\": \"norm_macro_recall_max\", \"stepped\": true, \"type\": \"scatter\", \"data\": [0.461588353290034, 0.461588353290034, 0.5752216271123834, 0.5752216271123834, 0.5752216271123834, 0.5752216271123834, 0.5779082573200219, 0.5779082573200219, 0.5779082573200219, 0.5779082573200219, 0.5779082573200219, 0.590071712445662, 0.590071712445662, 0.590071712445662, 0.590071712445662, 0.590071712445662, 0.590071712445662, 0.590071712445662, 0.590071712445662, 0.590071712445662, 0.590071712445662, 0.590071712445662, 0.590071712445662, 0.590071712445662, 0.590071712445662, 0.590071712445662, 0.590071712445662, 0.590071712445662, 0.590071712445662, 0.590071712445662, 0.590071712445662, 0.590071712445662, 0.590071712445662, 0.590071712445662, 0.590071712445662, 0.590071712445662, 0.590071712445662, 0.590071712445662, 0.590071712445662, 0.590071712445662, 0.590071712445662]}], \"accuracy\": [{\"categories\": [\"0\", \"1\", \"2\", \"3\", \"4\", \"5\", \"6\", \"7\", \"8\", \"9\", \"10\", \"11\", \"12\", \"13\", \"14\", \"15\", \"16\", \"17\", \"18\", \"19\", \"20\", \"21\", \"22\", \"23\", \"24\", \"25\", \"26\", \"27\", \"28\", \"29\", \"30\", \"31\", \"32\", \"33\", \"34\", \"35\", \"36\", \"37\", \"38\", \"39\", \"40\"], \"mode\": \"markers\", \"name\": \"accuracy\", \"stepped\": false, \"type\": \"scatter\", \"data\": [0.9011788172715895, 0.8949225594493115, 0.7717318523153942, 0.8630350438047559, 0.8736780350438047, 0.8899233416770964, 0.7779802878598248, 0.8642819148936169, 0.8799241239048812, 0.8780358260325407, 0.8761663016270338, 0.7692052565707135, 0.8755452127659575, 0.8980545994993743, 0.8936788172715895, 0.891180381727159, 0.8817999061326658, 0.8680350438047559, 0.8817975594493116, 0.885543648310388, 0.8717897371714644, 0.8861741239048812, 0.8792944305381727, 0.8724147371714643, 0.8780428660826032, 0.8786670838548185, 0.8642819148936169, 0.8674084793491865, 0.8767905193992491, 0.875540519399249, 0.8642819148936169, 0.8849209949937422, 0.8642819148936169, 0.8736600438047559, 0.8830491239048811, 0.8642819148936169, 0.8792959949937422, 0.8836717772215269, 0.8749194305381727, 0.912435857321652, 0.8861725594493116]}, {\"categories\": [\"0\", \"1\", \"2\", \"3\", \"4\", \"5\", \"6\", \"7\", \"8\", \"9\", \"10\", \"11\", \"12\", \"13\", \"14\", \"15\", \"16\", \"17\", \"18\", \"19\", \"20\", \"21\", \"22\", \"23\", \"24\", \"25\", \"26\", \"27\", \"28\", \"29\", \"30\", \"31\", \"32\", \"33\", \"34\", \"35\", \"36\", \"37\", \"38\", \"39\", \"40\"], \"mode\": \"lines\", \"name\": \"accuracy_max\", \"stepped\": true, \"type\": \"scatter\", \"data\": [0.9011788172715895, 0.9011788172715895, 0.9011788172715895, 0.9011788172715895, 0.9011788172715895, 0.9011788172715895, 0.9011788172715895, 0.9011788172715895, 0.9011788172715895, 0.9011788172715895, 0.9011788172715895, 0.9011788172715895, 0.9011788172715895, 0.9011788172715895, 0.9011788172715895, 0.9011788172715895, 0.9011788172715895, 0.9011788172715895, 0.9011788172715895, 0.9011788172715895, 0.9011788172715895, 0.9011788172715895, 0.9011788172715895, 0.9011788172715895, 0.9011788172715895, 0.9011788172715895, 0.9011788172715895, 0.9011788172715895, 0.9011788172715895, 0.9011788172715895, 0.9011788172715895, 0.9011788172715895, 0.9011788172715895, 0.9011788172715895, 0.9011788172715895, 0.9011788172715895, 0.9011788172715895, 0.9011788172715895, 0.9011788172715895, 0.912435857321652, 0.912435857321652]}], \"precision_score_macro\": [{\"categories\": [\"0\", \"1\", \"2\", \"3\", \"4\", \"5\", \"6\", \"7\", \"8\", \"9\", \"10\", \"11\", \"12\", \"13\", \"14\", \"15\", \"16\", \"17\", \"18\", \"19\", \"20\", \"21\", \"22\", \"23\", \"24\", \"25\", \"26\", \"27\", \"28\", \"29\", \"30\", \"31\", \"32\", \"33\", \"34\", \"35\", \"36\", \"37\", \"38\", \"39\", \"40\"], \"mode\": \"markers\", \"name\": \"precision_score_macro\", \"stepped\": false, \"type\": \"scatter\", \"data\": [0.8076314844666029, 0.7981661826899231, 0.6568119380619382, 0.7052877017384225, 0.754319256265964, 0.815637138963514, 0.659765563755858, 0.43214095744680847, 0.7772405514736995, 0.7720576591715191, 0.7500101400766854, 0.6600524835495404, 0.7307071005057988, 0.8365735395175014, 0.775474075054035, 0.7735013698760906, 0.8145859113910371, 0.7181221032976559, 0.8532266441758936, 0.7987372383242024, 0.7206770427853916, 0.7894465009713424, 0.9002961060056799, 0.9150599226663734, 0.8699261962908647, 0.8391339222824943, 0.43214095744680847, 0.871222765401703, 0.8199887259500651, 0.8766428621596132, 0.43214095744680847, 0.8787712105627061, 0.43214095744680847, 0.8758441610812099, 0.8407902187902188, 0.43214095744680847, 0.8406347220621884, 0.8538914788914789, 0.7950803621361617, 0.8724598374295954, 0.7608295640406586]}, {\"categories\": [\"0\", \"1\", \"2\", \"3\", \"4\", \"5\", \"6\", \"7\", \"8\", \"9\", \"10\", \"11\", \"12\", \"13\", \"14\", \"15\", \"16\", \"17\", \"18\", \"19\", \"20\", \"21\", \"22\", \"23\", \"24\", \"25\", \"26\", \"27\", \"28\", \"29\", \"30\", \"31\", \"32\", \"33\", \"34\", \"35\", \"36\", \"37\", \"38\", \"39\", \"40\"], \"mode\": \"lines\", \"name\": \"precision_score_macro_max\", \"stepped\": true, \"type\": \"scatter\", \"data\": [0.8076314844666029, 0.8076314844666029, 0.8076314844666029, 0.8076314844666029, 0.8076314844666029, 0.815637138963514, 0.815637138963514, 0.815637138963514, 0.815637138963514, 0.815637138963514, 0.815637138963514, 0.815637138963514, 0.815637138963514, 0.8365735395175014, 0.8365735395175014, 0.8365735395175014, 0.8365735395175014, 0.8365735395175014, 0.8532266441758936, 0.8532266441758936, 0.8532266441758936, 0.8532266441758936, 0.9002961060056799, 0.9150599226663734, 0.9150599226663734, 0.9150599226663734, 0.9150599226663734, 0.9150599226663734, 0.9150599226663734, 0.9150599226663734, 0.9150599226663734, 0.9150599226663734, 0.9150599226663734, 0.9150599226663734, 0.9150599226663734, 0.9150599226663734, 0.9150599226663734, 0.9150599226663734, 0.9150599226663734, 0.9150599226663734, 0.9150599226663734]}], \"matthews_correlation\": [{\"categories\": [\"0\", \"1\", \"2\", \"3\", \"4\", \"5\", \"6\", \"7\", \"8\", \"9\", \"10\", \"11\", \"12\", \"13\", \"14\", \"15\", \"16\", \"17\", \"18\", \"19\", \"20\", \"21\", \"22\", \"23\", \"24\", \"25\", \"26\", \"27\", \"28\", \"29\", \"30\", \"31\", \"32\", \"33\", \"34\", \"35\", \"36\", \"37\", \"38\", \"39\", \"40\"], \"mode\": \"markers\", \"name\": \"matthews_correlation\", \"stepped\": false, \"type\": \"scatter\", \"data\": [0.5328553656904523, 0.4871996887870849, 0.4245468212538236, 0.1984695149981443, 0.38094897193840904, 0.4252778823054057, 0.42963214326919985, 0.0, 0.3853921371040046, 0.35229964633199096, 0.3277124893911385, 0.4346063633492435, 0.3446666070566032, 0.479639107582844, 0.5266440692654155, 0.4963762480046986, 0.37932612884097305, 0.22026866709990306, 0.32412284804457603, 0.3920157258504325, 0.33975435237241003, 0.39962051090638745, 0.3030100930371929, 0.21524026759673937, 0.2932935556413989, 0.3035342724969129, 0.0, 0.141979041247341, 0.2869592994862228, 0.2640937110023367, 0.0, 0.3711191473987313, 0.0, 0.2405212114257138, 0.3812640885828342, 0.0, 0.2968416909799027, 0.3756002018505627, 0.30032314192241927, 0.5722740377436647, 0.47448972846559334]}, {\"categories\": [\"0\", \"1\", \"2\", \"3\", \"4\", \"5\", \"6\", \"7\", \"8\", \"9\", \"10\", \"11\", \"12\", \"13\", \"14\", \"15\", \"16\", \"17\", \"18\", \"19\", \"20\", \"21\", \"22\", \"23\", \"24\", \"25\", \"26\", \"27\", \"28\", \"29\", \"30\", \"31\", \"32\", \"33\", \"34\", \"35\", \"36\", \"37\", \"38\", \"39\", \"40\"], \"mode\": \"lines\", \"name\": \"matthews_correlation_max\", \"stepped\": true, \"type\": \"scatter\", \"data\": [0.5328553656904523, 0.5328553656904523, 0.5328553656904523, 0.5328553656904523, 0.5328553656904523, 0.5328553656904523, 0.5328553656904523, 0.5328553656904523, 0.5328553656904523, 0.5328553656904523, 0.5328553656904523, 0.5328553656904523, 0.5328553656904523, 0.5328553656904523, 0.5328553656904523, 0.5328553656904523, 0.5328553656904523, 0.5328553656904523, 0.5328553656904523, 0.5328553656904523, 0.5328553656904523, 0.5328553656904523, 0.5328553656904523, 0.5328553656904523, 0.5328553656904523, 0.5328553656904523, 0.5328553656904523, 0.5328553656904523, 0.5328553656904523, 0.5328553656904523, 0.5328553656904523, 0.5328553656904523, 0.5328553656904523, 0.5328553656904523, 0.5328553656904523, 0.5328553656904523, 0.5328553656904523, 0.5328553656904523, 0.5328553656904523, 0.5722740377436647, 0.5722740377436647]}], \"f1_score_weighted\": [{\"categories\": [\"0\", \"1\", \"2\", \"3\", \"4\", \"5\", \"6\", \"7\", \"8\", \"9\", \"10\", \"11\", \"12\", \"13\", \"14\", \"15\", \"16\", \"17\", \"18\", \"19\", \"20\", \"21\", \"22\", \"23\", \"24\", \"25\", \"26\", \"27\", \"28\", \"29\", \"30\", \"31\", \"32\", \"33\", \"34\", \"35\", \"36\", \"37\", \"38\", \"39\", \"40\"], \"mode\": \"markers\", \"name\": \"f1_score_weighted\", \"stepped\": false, \"type\": \"scatter\", \"data\": [0.8939968793936438, 0.8840087955347018, 0.8039056315128456, 0.8248366825916595, 0.8599716569570022, 0.8702113067166259, 0.8085630111994481, 0.8014168839525615, 0.8610353262874325, 0.8550794901707715, 0.8522625701459177, 0.8015921768555343, 0.8574751221337262, 0.8817371771430744, 0.8912723743705805, 0.8859873594833372, 0.8574710904184892, 0.8305006969963813, 0.845447445494723, 0.862623294827299, 0.8555656485998919, 0.8665359767881453, 0.8365053716526412, 0.8210030096167253, 0.8357837618089285, 0.8401682839791321, 0.8014168839525615, 0.8099930239361466, 0.8380401007734659, 0.829755828809339, 0.8014168839525615, 0.8515178048928504, 0.8014168839525615, 0.8246249998436412, 0.8559984600832642, 0.8014168839525615, 0.8406304633851094, 0.8539168978679075, 0.8417180344107809, 0.9011393307337938, 0.8806193525774755]}, {\"categories\": [\"0\", \"1\", \"2\", \"3\", \"4\", \"5\", \"6\", \"7\", \"8\", \"9\", \"10\", \"11\", \"12\", \"13\", \"14\", \"15\", \"16\", \"17\", \"18\", \"19\", \"20\", \"21\", \"22\", \"23\", \"24\", \"25\", \"26\", \"27\", \"28\", \"29\", \"30\", \"31\", \"32\", \"33\", \"34\", \"35\", \"36\", \"37\", \"38\", \"39\", \"40\"], \"mode\": \"lines\", \"name\": \"f1_score_weighted_max\", \"stepped\": true, \"type\": \"scatter\", \"data\": [0.8939968793936438, 0.8939968793936438, 0.8939968793936438, 0.8939968793936438, 0.8939968793936438, 0.8939968793936438, 0.8939968793936438, 0.8939968793936438, 0.8939968793936438, 0.8939968793936438, 0.8939968793936438, 0.8939968793936438, 0.8939968793936438, 0.8939968793936438, 0.8939968793936438, 0.8939968793936438, 0.8939968793936438, 0.8939968793936438, 0.8939968793936438, 0.8939968793936438, 0.8939968793936438, 0.8939968793936438, 0.8939968793936438, 0.8939968793936438, 0.8939968793936438, 0.8939968793936438, 0.8939968793936438, 0.8939968793936438, 0.8939968793936438, 0.8939968793936438, 0.8939968793936438, 0.8939968793936438, 0.8939968793936438, 0.8939968793936438, 0.8939968793936438, 0.8939968793936438, 0.8939968793936438, 0.8939968793936438, 0.8939968793936438, 0.9011393307337938, 0.9011393307337938]}]}, \"metricName\": null, \"primaryMetricName\": \"accuracy\", \"showLegend\": false}, \"run_metrics\": [{\"name\": \"experiment_status\", \"run_id\": \"AutoML_16b2242a-77dc-407b-ae2e-d37d27d77d00\", \"categories\": [0, 1, 2, 3, 4, 5, 6, 7, 8, 9, 10, 11, 12, 13, 14], \"series\": [{\"data\": [\"DatasetEvaluation\", \"FeaturesGeneration\", \"DatasetFeaturization\", \"DatasetFeaturizationCompleted\", \"DatasetBalancing\", \"DatasetCrossValidationSplit\", \"ModelSelection\", \"BestRunExplainModel\", \"ModelExplanationDataSetSetup\", \"PickSurrogateModel\", \"EngineeredFeatureExplanations\", \"EngineeredFeatureExplanations\", \"RawFeaturesExplanations\", \"RawFeaturesExplanations\", \"BestRunExplainModel\"]}]}, {\"name\": \"experiment_status_description\", \"run_id\": \"AutoML_16b2242a-77dc-407b-ae2e-d37d27d77d00\", \"categories\": [0, 1, 2, 3, 4, 5, 6, 7, 8, 9, 10, 11, 12, 13, 14], \"series\": [{\"data\": [\"Gathering dataset statistics.\", \"Generating features for the dataset.\", \"Beginning to fit featurizers and featurize the dataset.\", \"Completed fit featurizers and featurizing the dataset.\", \"Performing class balancing sweeping\", \"Generating individually featurized CV splits.\", \"Beginning model selection.\", \"Best run model explanations started\", \"Model explanations data setup completed\", \"Choosing LightGBM as the surrogate model for explanations\", \"Computation of engineered features started\", \"Computation of engineered features completed\", \"Computation of raw features started\", \"Computation of raw features completed\", \"Best run model explanations completed\"]}]}, {\"name\": \"precision_score_macro\", \"run_id\": \"AutoML_16b2242a-77dc-407b-ae2e-d37d27d77d00\", \"categories\": [0], \"series\": [{\"data\": [0.8724598374295954]}]}, {\"name\": \"log_loss\", \"run_id\": \"AutoML_16b2242a-77dc-407b-ae2e-d37d27d77d00\", \"categories\": [0], \"series\": [{\"data\": [0.2545138675884685]}]}, {\"name\": \"AUC_weighted\", \"run_id\": \"AutoML_16b2242a-77dc-407b-ae2e-d37d27d77d00\", \"categories\": [0], \"series\": [{\"data\": [0.898779308103332]}]}, {\"name\": \"norm_macro_recall\", \"run_id\": \"AutoML_16b2242a-77dc-407b-ae2e-d37d27d77d00\", \"categories\": [0], \"series\": [{\"data\": [0.43972516356970126]}]}, {\"name\": \"recall_score_micro\", \"run_id\": \"AutoML_16b2242a-77dc-407b-ae2e-d37d27d77d00\", \"categories\": [0], \"series\": [{\"data\": [0.912435857321652]}]}, {\"name\": \"accuracy\", \"run_id\": \"AutoML_16b2242a-77dc-407b-ae2e-d37d27d77d00\", \"categories\": [0], \"series\": [{\"data\": [0.912435857321652]}]}, {\"name\": \"precision_score_weighted\", \"run_id\": \"AutoML_16b2242a-77dc-407b-ae2e-d37d27d77d00\", \"categories\": [0], \"series\": [{\"data\": [0.9065040656219019]}]}, {\"name\": \"AUC_macro\", \"run_id\": \"AutoML_16b2242a-77dc-407b-ae2e-d37d27d77d00\", \"categories\": [0], \"series\": [{\"data\": [0.898779308103332]}]}, {\"name\": \"average_precision_score_micro\", \"run_id\": \"AutoML_16b2242a-77dc-407b-ae2e-d37d27d77d00\", \"categories\": [0], \"series\": [{\"data\": [0.9633487749827769]}]}, {\"name\": \"f1_score_micro\", \"run_id\": \"AutoML_16b2242a-77dc-407b-ae2e-d37d27d77d00\", \"categories\": [0], \"series\": [{\"data\": [0.9124358573216521]}]}, {\"name\": \"weighted_accuracy\", \"run_id\": \"AutoML_16b2242a-77dc-407b-ae2e-d37d27d77d00\", \"categories\": [0], \"series\": [{\"data\": [0.9716447722395987]}]}, {\"name\": \"matthews_correlation\", \"run_id\": \"AutoML_16b2242a-77dc-407b-ae2e-d37d27d77d00\", \"categories\": [0], \"series\": [{\"data\": [0.5722740377436647]}]}, {\"name\": \"recall_score_weighted\", \"run_id\": \"AutoML_16b2242a-77dc-407b-ae2e-d37d27d77d00\", \"categories\": [0], \"series\": [{\"data\": [0.912435857321652]}]}, {\"name\": \"precision_score_micro\", \"run_id\": \"AutoML_16b2242a-77dc-407b-ae2e-d37d27d77d00\", \"categories\": [0], \"series\": [{\"data\": [0.912435857321652]}]}, {\"name\": \"AUC_micro\", \"run_id\": \"AutoML_16b2242a-77dc-407b-ae2e-d37d27d77d00\", \"categories\": [0], \"series\": [{\"data\": [0.9636177246599316]}]}, {\"name\": \"recall_score_macro\", \"run_id\": \"AutoML_16b2242a-77dc-407b-ae2e-d37d27d77d00\", \"categories\": [0], \"series\": [{\"data\": [0.7198625817848506]}]}, {\"name\": \"balanced_accuracy\", \"run_id\": \"AutoML_16b2242a-77dc-407b-ae2e-d37d27d77d00\", \"categories\": [0], \"series\": [{\"data\": [0.7198625817848506]}]}, {\"name\": \"f1_score_macro\", \"run_id\": \"AutoML_16b2242a-77dc-407b-ae2e-d37d27d77d00\", \"categories\": [0], \"series\": [{\"data\": [0.7687017295595606]}]}, {\"name\": \"average_precision_score_macro\", \"run_id\": \"AutoML_16b2242a-77dc-407b-ae2e-d37d27d77d00\", \"categories\": [0], \"series\": [{\"data\": [0.8359745657592326]}]}, {\"name\": \"f1_score_weighted\", \"run_id\": \"AutoML_16b2242a-77dc-407b-ae2e-d37d27d77d00\", \"categories\": [0], \"series\": [{\"data\": [0.9011393307337938]}]}, {\"name\": \"average_precision_score_weighted\", \"run_id\": \"AutoML_16b2242a-77dc-407b-ae2e-d37d27d77d00\", \"categories\": [0], \"series\": [{\"data\": [0.9411339553515461]}]}], \"run_logs\": \"\\nRun is completed.\", \"graph\": {}, \"widget_settings\": {\"childWidgetDisplay\": \"popup\", \"send_telemetry\": false, \"log_level\": \"INFO\", \"sdk_version\": \"1.32.0\"}, \"loading\": false}"
          },
          "metadata": {}
        },
        {
          "output_type": "display_data",
          "data": {
            "text/plain": "<IPython.core.display.HTML object>",
            "text/html": "<table style=\"width:100%\"><tr><th>Experiment</th><th>Id</th><th>Type</th><th>Status</th><th>Details Page</th><th>Docs Page</th></tr><tr><td>red-wine-quality</td><td>AutoML_16b2242a-77dc-407b-ae2e-d37d27d77d00</td><td>automl</td><td>NotStarted</td><td><a href=\"https://ml.azure.com/runs/AutoML_16b2242a-77dc-407b-ae2e-d37d27d77d00?wsid=/subscriptions/3dafc970-6015-4fba-b00d-39dc6a1b7521/resourcegroups/nk_capstoneproject/workspaces/nk_project3&amp;tid=dd951004-cd14-4cb2-8718-3c0bcc7fed4e\" target=\"_blank\" rel=\"noopener\">Link to Azure Machine Learning studio</a></td><td><a href=\"https://docs.microsoft.com/en-us/python/api/overview/azure/ml/intro?view=azure-ml-py\" target=\"_blank\" rel=\"noopener\">Link to Documentation</a></td></tr></table>"
          },
          "metadata": {}
        },
        {
          "output_type": "stream",
          "name": "stdout",
          "text": [
            "\n",
            "Current status: FeaturesGeneration. Generating features for the dataset.\n",
            "Current status: DatasetBalancing. Performing class balancing sweeping\n",
            "Current status: ModelSelection. Beginning model selection.\n",
            "\n",
            "****************************************************************************************************\n",
            "DATA GUARDRAILS: \n",
            "\n",
            "TYPE:         Class balancing detection\n",
            "STATUS:       ALERTED\n",
            "DESCRIPTION:  To decrease model bias, please cancel the current run and fix balancing problem.\n",
            "              Learn more about imbalanced data: https://aka.ms/AutomatedMLImbalancedData\n",
            "DETAILS:      Imbalanced data can lead to a falsely perceived positive effect of a model's accuracy because the input data has bias towards one class.\n",
            "+---------------------------------+---------------------------------+--------------------------------------+\n",
            "|Size of the smallest class       |Name/Label of the smallest class |Number of samples in the training data|\n",
            "+=================================+=================================+======================================+\n",
            "|217                              |1                                |1599                                  |\n",
            "+---------------------------------+---------------------------------+--------------------------------------+\n",
            "\n",
            "****************************************************************************************************\n",
            "\n",
            "TYPE:         Missing feature values imputation\n",
            "STATUS:       PASSED\n",
            "DESCRIPTION:  No feature missing values were detected in the training data.\n",
            "              Learn more about missing value imputation: https://aka.ms/AutomatedMLFeaturization\n",
            "\n",
            "****************************************************************************************************\n",
            "\n",
            "TYPE:         High cardinality feature detection\n",
            "STATUS:       PASSED\n",
            "DESCRIPTION:  Your inputs were analyzed, and no high cardinality features were detected.\n",
            "              Learn more about high cardinality feature handling: https://aka.ms/AutomatedMLFeaturization\n",
            "\n",
            "****************************************************************************************************\n",
            "\n",
            "****************************************************************************************************\n",
            "ITERATION: The iteration being evaluated.\n",
            "PIPELINE: A summary description of the pipeline being evaluated.\n",
            "DURATION: Time taken for the current iteration.\n",
            "METRIC: The result of computing score on the fitted pipeline.\n",
            "BEST: The best observed score thus far.\n",
            "****************************************************************************************************\n",
            "\n",
            " ITERATION   PIPELINE                                       DURATION      METRIC      BEST\n",
            "         0   MaxAbsScaler LightGBM                          0:00:50       0.9012    0.9012\n",
            "         1   MaxAbsScaler XGBoostClassifier                 0:00:36       0.8949    0.9012\n",
            "         2   MaxAbsScaler ExtremeRandomTrees                0:00:39       0.7717    0.9012\n",
            "         3   SparseNormalizer XGBoostClassifier             0:00:33       0.8630    0.9012\n",
            "         4   StandardScalerWrapper KNN                      0:00:36       0.8737    0.9012\n",
            "         5   MaxAbsScaler LightGBM                          0:00:39       0.8899    0.9012\n",
            "         6   RobustScaler LogisticRegression                0:00:34       0.7780    0.9012\n",
            "         7   MaxAbsScaler LightGBM                          0:00:33       0.8643    0.9012\n",
            "         8   StandardScalerWrapper KNN                      0:00:33       0.8799    0.9012\n",
            "         9   StandardScalerWrapper SVM                      0:00:36       0.8780    0.9012\n",
            "        10   StandardScalerWrapper XGBoostClassifier        0:00:38       0.8762    0.9012\n",
            "        11   MinMaxScaler RandomForest                      0:00:31       0.7692    0.9012\n",
            "        12   StandardScalerWrapper LogisticRegression       0:00:36       0.8755    0.9012\n",
            "        13   StandardScalerWrapper KNN                      0:00:36       0.8981    0.9012\n",
            "        14   RobustScaler KNN                               0:00:36       0.8937    0.9012\n",
            "        15   MinMaxScaler KNN                               0:00:33       0.8912    0.9012\n",
            "        16   SparseNormalizer KNN                           0:00:35       0.8818    0.9012\n",
            "        17   MaxAbsScaler LogisticRegression                0:00:36       0.8680    0.9012\n",
            "        18   StandardScalerWrapper XGBoostClassifier        0:00:36       0.8818    0.9012\n",
            "        19   StandardScalerWrapper XGBoostClassifier        0:00:36       0.8855    0.9012\n",
            "        20   MaxAbsScaler LogisticRegression                0:00:35       0.8718    0.9012\n",
            "        21   StandardScalerWrapper XGBoostClassifier        0:00:33       0.8862    0.9012\n",
            "        22   MaxAbsScaler LightGBM                          0:00:38       0.8793    0.9012\n",
            "        23   StandardScalerWrapper LightGBM                 0:00:36       0.8724    0.9012\n",
            "        24   StandardScalerWrapper LightGBM                 0:00:34       0.8780    0.9012\n",
            "        25   MinMaxScaler LightGBM                          0:00:36       0.8787    0.9012\n",
            "        26   StandardScalerWrapper LightGBM                 0:00:38       0.8643    0.9012\n",
            "        27   StandardScalerWrapper LightGBM                 0:00:36       0.8674    0.9012\n",
            "        28   RobustScaler LightGBM                          0:00:39       0.8768    0.9012\n",
            "        29   StandardScalerWrapper LightGBM                 0:00:33       0.8755    0.9012\n",
            "        30   MaxAbsScaler LightGBM                          0:00:39       0.8643    0.9012\n",
            "        31   SparseNormalizer KNN                           0:00:33       0.8849    0.9012\n",
            "        32   StandardScalerWrapper LightGBM                 0:00:33       0.8643    0.9012\n",
            "        33   SparseNormalizer LightGBM                      0:00:36       0.8737    0.9012\n",
            "        34   StandardScalerWrapper KNN                      0:00:36       0.8830    0.9012\n",
            "        35   RobustScaler LightGBM                          0:00:35       0.8643    0.9012\n",
            "        36   StandardScalerWrapper GradientBoosting         0:00:36       0.8793    0.9012\n",
            "        37   RobustScaler KNN                               0:00:35       0.8837    0.9012\n",
            "        38   SparseNormalizer XGBoostClassifier             0:00:33       0.8749    0.9012\n",
            "        39    VotingEnsemble                                0:00:49       0.9124    0.9124\n",
            "        40    StackEnsemble                                 0:00:55       0.8862    0.9124\n"
          ]
        },
        {
          "output_type": "execute_result",
          "execution_count": 8,
          "data": {
            "text/plain": "{'runId': 'AutoML_16b2242a-77dc-407b-ae2e-d37d27d77d00',\n 'target': 'natcluster001',\n 'status': 'Completed',\n 'startTimeUtc': '2021-08-08T08:28:01.294286Z',\n 'endTimeUtc': '2021-08-08T09:03:01.211331Z',\n 'properties': {'num_iterations': '1000',\n  'training_type': 'TrainFull',\n  'acquisition_function': 'EI',\n  'primary_metric': 'accuracy',\n  'train_split': '0',\n  'acquisition_parameter': '0',\n  'num_cross_validation': '2',\n  'target': 'natcluster001',\n  'AMLSettingsJsonString': '{\"path\":null,\"name\":\"red-wine-quality\",\"subscription_id\":\"3dafc970-6015-4fba-b00d-39dc6a1b7521\",\"resource_group\":\"nk_capstoneproject\",\"workspace_name\":\"nk_project3\",\"region\":\"westeurope\",\"compute_target\":\"natcluster001\",\"spark_service\":null,\"azure_service\":\"remote\",\"many_models\":false,\"pipeline_fetch_max_batch_size\":1,\"enable_batch_run\":false,\"enable_run_restructure\":false,\"start_auxiliary_runs_before_parent_complete\":false,\"enable_code_generation\":false,\"iterations\":1000,\"primary_metric\":\"accuracy\",\"task_type\":\"classification\",\"data_script\":null,\"test_size\":0.0,\"validation_size\":0.0,\"n_cross_validations\":2,\"y_min\":null,\"y_max\":null,\"num_classes\":null,\"featurization\":\"auto\",\"_ignore_package_version_incompatibilities\":false,\"is_timeseries\":false,\"max_cores_per_iteration\":1,\"max_concurrent_iterations\":1,\"iteration_timeout_minutes\":null,\"mem_in_mb\":null,\"enforce_time_on_windows\":false,\"experiment_timeout_minutes\":30,\"experiment_exit_score\":null,\"whitelist_models\":null,\"blacklist_algos\":[\"TensorFlowLinearClassifier\",\"TensorFlowDNN\"],\"supported_models\":[\"DecisionTree\",\"KNN\",\"ExtremeRandomTrees\",\"SGD\",\"SVM\",\"RandomForest\",\"BernoulliNaiveBayes\",\"TensorFlowLinearClassifier\",\"TensorFlowDNN\",\"LightGBM\",\"GradientBoosting\",\"LinearSVM\",\"MultinomialNaiveBayes\",\"AveragedPerceptronClassifier\",\"XGBoostClassifier\",\"LogisticRegression\"],\"private_models\":[],\"auto_blacklist\":true,\"blacklist_samples_reached\":false,\"exclude_nan_labels\":true,\"verbosity\":20,\"_debug_log\":\"azureml_automl.log\",\"show_warnings\":false,\"model_explainability\":true,\"service_url\":null,\"sdk_url\":null,\"sdk_packages\":null,\"enable_onnx_compatible_models\":false,\"enable_split_onnx_featurizer_estimator_models\":false,\"vm_type\":\"STANDARD_D2_V2\",\"telemetry_verbosity\":20,\"send_telemetry\":true,\"enable_dnn\":false,\"scenario\":\"SDK-1.13.0\",\"environment_label\":null,\"save_mlflow\":false,\"force_text_dnn\":false,\"enable_feature_sweeping\":true,\"enable_early_stopping\":false,\"early_stopping_n_iters\":10,\"metrics\":null,\"enable_metric_confidence\":false,\"enable_ensembling\":true,\"enable_stack_ensembling\":true,\"ensemble_iterations\":15,\"enable_tf\":false,\"enable_subsampling\":null,\"subsample_seed\":null,\"enable_nimbusml\":false,\"enable_streaming\":false,\"force_streaming\":false,\"track_child_runs\":true,\"allowed_private_models\":[],\"label_column_name\":\"quality\",\"weight_column_name\":null,\"cv_split_column_names\":null,\"enable_local_managed\":false,\"_local_managed_run_id\":null,\"cost_mode\":1,\"lag_length\":0,\"metric_operation\":\"maximize\",\"preprocess\":true}',\n  'DataPrepJsonString': '{\\\\\"training_data\\\\\": {\\\\\"datasetId\\\\\": \\\\\"df9b1672-395f-49c9-8593-7de8671400ac\\\\\"}, \\\\\"datasets\\\\\": 0}',\n  'EnableSubsampling': None,\n  'runTemplate': 'AutoML',\n  'azureml.runsource': 'automl',\n  'display_task_type': 'classification',\n  'dependencies_versions': '{\"azureml-widgets\": \"1.32.0\", \"azureml-train\": \"1.32.0\", \"azureml-train-restclients-hyperdrive\": \"1.32.0\", \"azureml-train-core\": \"1.32.0\", \"azureml-train-automl\": \"1.32.0\", \"azureml-train-automl-runtime\": \"1.32.0\", \"azureml-train-automl-client\": \"1.32.0\", \"azureml-tensorboard\": \"1.32.0\", \"azureml-telemetry\": \"1.32.0\", \"azureml-sdk\": \"1.32.0\", \"azureml-samples\": \"0+unknown\", \"azureml-responsibleai\": \"1.32.0\", \"azureml-pipeline\": \"1.32.0\", \"azureml-pipeline-steps\": \"1.32.0\", \"azureml-pipeline-core\": \"1.32.0\", \"azureml-opendatasets\": \"1.32.0\", \"azureml-model-management-sdk\": \"1.0.1b6.post1\", \"azureml-mlflow\": \"1.32.0\", \"azureml-interpret\": \"1.32.0\", \"azureml-explain-model\": \"1.32.0\", \"azureml-defaults\": \"1.32.0\", \"azureml-dataset-runtime\": \"1.32.0\", \"azureml-dataprep\": \"2.18.0\", \"azureml-dataprep-rslex\": \"1.16.1\", \"azureml-dataprep-native\": \"36.0.0\", \"azureml-datadrift\": \"1.32.0\", \"azureml-core\": \"1.32.0\", \"azureml-contrib-services\": \"1.32.0\", \"azureml-contrib-server\": \"1.32.0\", \"azureml-contrib-reinforcementlearning\": \"1.32.0\", \"azureml-contrib-pipeline-steps\": \"1.32.0\", \"azureml-contrib-notebook\": \"1.32.0\", \"azureml-contrib-fairness\": \"1.32.0\", \"azureml-contrib-dataset\": \"1.32.0\", \"azureml-cli-common\": \"1.32.0\", \"azureml-automl-runtime\": \"1.32.0\", \"azureml-automl-dnn-nlp\": \"1.32.0\", \"azureml-automl-core\": \"1.32.0\", \"azureml-accel-models\": \"1.32.0\"}',\n  '_aml_system_scenario_identification': 'Remote.Parent',\n  'ClientType': 'SDK',\n  'environment_cpu_name': 'AzureML-AutoML',\n  'environment_cpu_label': 'prod',\n  'environment_gpu_name': 'AzureML-AutoML-GPU',\n  'environment_gpu_label': 'prod',\n  'root_attribution': 'automl',\n  'attribution': 'AutoML',\n  'Orchestrator': 'AutoML',\n  'CancelUri': 'https://westeurope.api.azureml.ms/jasmine/v1.0/subscriptions/3dafc970-6015-4fba-b00d-39dc6a1b7521/resourceGroups/nk_capstoneproject/providers/Microsoft.MachineLearningServices/workspaces/nk_project3/experimentids/dbcc2c30-fb85-4ced-bfad-025e11f00fa1/cancel/AutoML_16b2242a-77dc-407b-ae2e-d37d27d77d00',\n  'ClientSdkVersion': '1.32.0',\n  'snapshotId': '00000000-0000-0000-0000-000000000000',\n  'SetupRunId': 'AutoML_16b2242a-77dc-407b-ae2e-d37d27d77d00_setup',\n  'SetupRunContainerId': 'dcid.AutoML_16b2242a-77dc-407b-ae2e-d37d27d77d00_setup',\n  'FeaturizationRunJsonPath': 'featurizer_container.json',\n  'FeaturizationRunId': 'AutoML_16b2242a-77dc-407b-ae2e-d37d27d77d00_featurize',\n  'ProblemInfoJsonString': '{\"dataset_num_categorical\": 0, \"is_sparse\": false, \"subsampling\": false, \"has_extra_col\": true, \"dataset_classes\": 2, \"dataset_features\": 11, \"dataset_samples\": 1599, \"single_frequency_class_detected\": false}',\n  'ModelExplainRunId': 'AutoML_16b2242a-77dc-407b-ae2e-d37d27d77d00_ModelExplain'},\n 'inputDatasets': [{'dataset': {'id': 'df9b1672-395f-49c9-8593-7de8671400ac'}, 'consumptionDetails': {'type': 'RunInput', 'inputName': 'training_data', 'mechanism': 'Direct'}}],\n 'outputDatasets': [],\n 'logFiles': {},\n 'submittedBy': 'Natalia Karpenko'}"
          },
          "metadata": {}
        }
      ],
      "execution_count": 8,
      "metadata": {
        "gather": {
          "logged": 1628413401183
        },
        "jupyter": {
          "outputs_hidden": false,
          "source_hidden": false
        },
        "nteract": {
          "transient": {
            "deleting": false
          }
        }
      }
    },
    {
      "cell_type": "markdown",
      "source": [
        "## Best Model\n",
        "\n",
        "TODO: In the cell below, get the best model from the automl experiments and display all the properties of the model.\n",
        "\n"
      ],
      "metadata": {}
    },
    {
      "cell_type": "code",
      "source": [
        "best_run, fitted_model = wine_automl_run.get_output()\r\n",
        "print(best_run)\r\n",
        "print(fitted_model)\r\n",
        "print(wine_automl_run.get_metrics())"
      ],
      "outputs": [
        {
          "output_type": "stream",
          "name": "stdout",
          "text": [
            "Run(Experiment: red-wine-quality,\n",
            "Id: AutoML_16b2242a-77dc-407b-ae2e-d37d27d77d00_39,\n",
            "Type: azureml.scriptrun,\n",
            "Status: Completed)\n",
            "Pipeline(memory=None,\n",
            "         steps=[('datatransformer',\n",
            "                 DataTransformer(enable_dnn=False, enable_feature_sweeping=True, feature_sweeping_config={}, feature_sweeping_timeout=86400, featurization_config=None, force_text_dnn=False, is_cross_validation=True, is_onnx_compatible=False, observer=None, task='classification', working_dir='/mnt/batch/tasks/shared/LS_root/mount...\n",
            ")), ('kneighborsclassifier', KNeighborsClassifier(algorithm='auto', leaf_size=30, metric='manhattan', metric_params=None, n_jobs=1, n_neighbors=5, p=2, weights='distance'))], verbose=False))], flatten_transform=None, weights=[0.08333333333333333, 0.08333333333333333, 0.08333333333333333, 0.08333333333333333, 0.08333333333333333, 0.08333333333333333, 0.3333333333333333, 0.16666666666666666]))],\n",
            "         verbose=False)\n",
            "{'experiment_status': ['DatasetEvaluation', 'FeaturesGeneration', 'DatasetFeaturization', 'DatasetFeaturizationCompleted', 'DatasetBalancing', 'DatasetCrossValidationSplit', 'ModelSelection'], 'experiment_status_description': ['Gathering dataset statistics.', 'Generating features for the dataset.', 'Beginning to fit featurizers and featurize the dataset.', 'Completed fit featurizers and featurizing the dataset.', 'Performing class balancing sweeping', 'Generating individually featurized CV splits.', 'Beginning model selection.'], 'precision_score_macro': 0.8724598374295954, 'log_loss': 0.2545138675884685, 'AUC_weighted': 0.898779308103332, 'norm_macro_recall': 0.43972516356970126, 'recall_score_micro': 0.912435857321652, 'accuracy': 0.912435857321652, 'precision_score_weighted': 0.9065040656219019, 'AUC_macro': 0.898779308103332, 'average_precision_score_micro': 0.9633487749827769, 'f1_score_micro': 0.9124358573216521, 'weighted_accuracy': 0.9716447722395987, 'matthews_correlation': 0.5722740377436647, 'recall_score_weighted': 0.912435857321652, 'precision_score_micro': 0.912435857321652, 'AUC_micro': 0.9636177246599316, 'recall_score_macro': 0.7198625817848506, 'balanced_accuracy': 0.7198625817848506, 'f1_score_macro': 0.7687017295595606, 'average_precision_score_macro': 0.8359745657592326, 'f1_score_weighted': 0.9011393307337938, 'average_precision_score_weighted': 0.9411339553515461}\n"
          ]
        }
      ],
      "execution_count": 9,
      "metadata": {
        "gather": {
          "logged": 1628413474655
        },
        "jupyter": {
          "outputs_hidden": true,
          "source_hidden": false
        },
        "nteract": {
          "transient": {
            "deleting": false
          }
        }
      }
    },
    {
      "cell_type": "code",
      "source": [
        "# Save the best model\r\n",
        "model = wine_automl_run.register_model(model_name='wine-best-automl-model2')\r\n",
        "print(model.name, model.id, model.version, sep='\\t')"
      ],
      "outputs": [],
      "execution_count": null,
      "metadata": {
        "collapsed": true,
        "jupyter": {
          "source_hidden": false,
          "outputs_hidden": false
        },
        "nteract": {
          "transient": {
            "deleting": false
          }
        }
      }
    },
    {
      "cell_type": "markdown",
      "source": [
        "## Model Deployment\n",
        "\n",
        "Remember you have to deploy only one of the two models you trained.. Perform the steps in the rest of this notebook only if you wish to deploy this model.\n",
        "\n",
        "TODO: In the cell below, register the model, create an inference config and deploy the model as a web service."
      ],
      "metadata": {}
    },
    {
      "cell_type": "markdown",
      "source": [
        "TODO: In the cell below, send a request to the web service you deployed to test it."
      ],
      "metadata": {
        "collapsed": true,
        "gather": {
          "logged": 1598431657736
        },
        "jupyter": {
          "outputs_hidden": false,
          "source_hidden": false
        },
        "nteract": {
          "transient": {
            "deleting": false
          }
        }
      }
    },
    {
      "cell_type": "code",
      "source": [
        "# Deploy model\r\n",
        "from azureml.train.automl.run import AutoMLRun\r\n",
        "run_id= 'AutoML_16b2242a-77dc-407b-ae2e-d37d27d77d00_39' #best run\r\n",
        "best_run=AutoMLRun(experiment, run_id)\r\n",
        "best_run"
      ],
      "outputs": [
        {
          "output_type": "execute_result",
          "execution_count": 8,
          "data": {
            "text/plain": "Run(Experiment: red-wine-quality,\nId: AutoML_16b2242a-77dc-407b-ae2e-d37d27d77d00_39,\nType: azureml.scriptrun,\nStatus: Completed)",
            "text/html": "<table style=\"width:100%\"><tr><th>Experiment</th><th>Id</th><th>Type</th><th>Status</th><th>Details Page</th><th>Docs Page</th></tr><tr><td>red-wine-quality</td><td>AutoML_16b2242a-77dc-407b-ae2e-d37d27d77d00_39</td><td>azureml.scriptrun</td><td>Completed</td><td><a href=\"https://ml.azure.com/runs/AutoML_16b2242a-77dc-407b-ae2e-d37d27d77d00_39?wsid=/subscriptions/3dafc970-6015-4fba-b00d-39dc6a1b7521/resourcegroups/nk_capstoneproject/workspaces/nk_project3&amp;tid=dd951004-cd14-4cb2-8718-3c0bcc7fed4e\" target=\"_blank\" rel=\"noopener\">Link to Azure Machine Learning studio</a></td><td><a href=\"https://docs.microsoft.com/en-us/python/api/overview/azure/ml/intro?view=azure-ml-py\" target=\"_blank\" rel=\"noopener\">Link to Documentation</a></td></tr></table>"
          },
          "metadata": {}
        }
      ],
      "execution_count": 8,
      "metadata": {
        "collapsed": true,
        "jupyter": {
          "source_hidden": false,
          "outputs_hidden": false
        },
        "nteract": {
          "transient": {
            "deleting": false
          }
        },
        "gather": {
          "logged": 1628511647859
        }
      }
    },
    {
      "cell_type": "code",
      "source": [
        "# Retrive model by name\r\n",
        "model = Model(workspace, 'wine-best-automl-model2')\r\n"
      ],
      "outputs": [],
      "execution_count": 14,
      "metadata": {
        "collapsed": true,
        "jupyter": {
          "source_hidden": false,
          "outputs_hidden": false
        },
        "nteract": {
          "transient": {
            "deleting": false
          }
        },
        "gather": {
          "logged": 1628512430580
        }
      }
    },
    {
      "cell_type": "code",
      "source": [
        "#Download score script\r\n",
        "\r\n",
        "script_file_name ='score2.py'\r\n",
        "best_run.download_file('outputs/scoring_file_v_1_0_0.py', 'score2.py')"
      ],
      "outputs": [],
      "execution_count": 13,
      "metadata": {
        "collapsed": true,
        "jupyter": {
          "source_hidden": false,
          "outputs_hidden": false
        },
        "nteract": {
          "transient": {
            "deleting": false
          }
        },
        "gather": {
          "logged": 1628511974005
        }
      }
    },
    {
      "cell_type": "code",
      "source": [
        "inference_config=InferenceConfig( entry_script='score2.py', environment=best_run.get_environment())\r\n",
        "aciconfig= AciWebservice.deploy_configuration(cpu_cores=1, memory_gb=1)\r\n",
        "aci_service_name='red-wine-quality'\r\n",
        "print(aci_service_name)\r\n",
        "aci_service=Model.deploy(workspace, aci_service_name, [model], inference_config, aciconfig)\r\n",
        "\r\n",
        "aci_service.wait_for_deployment(True)\r\n",
        "print(aci_service.state)"
      ],
      "outputs": [
        {
          "output_type": "stream",
          "name": "stdout",
          "text": [
            "red-wine-quality\n",
            "Tips: You can try get_logs(): https://aka.ms/debugimage#dockerlog or local deployment: https://aka.ms/debugimage#debug-locally to debug if deployment takes longer than 10 minutes.\n",
            "Running\n",
            "2021-08-09 12:36:09+00:00 Creating Container Registry if not exists.\n",
            "2021-08-09 12:36:10+00:00 Registering the environment.\n",
            "2021-08-09 12:36:11+00:00 Use the existing image.\n",
            "2021-08-09 12:36:11+00:00 Generating deployment configuration.\n",
            "2021-08-09 12:36:12+00:00 Submitting deployment to compute.\n",
            "2021-08-09 12:36:20+00:00 Checking the status of deployment red-wine-quality..\n",
            "2021-08-09 12:39:38+00:00 Checking the status of inference endpoint red-wine-quality.\n",
            "Succeeded\n",
            "ACI service creation operation finished, operation \"Succeeded\"\n",
            "Healthy\n"
          ]
        }
      ],
      "execution_count": 15,
      "metadata": {
        "collapsed": true,
        "jupyter": {
          "source_hidden": false,
          "outputs_hidden": false
        },
        "nteract": {
          "transient": {
            "deleting": false
          }
        },
        "gather": {
          "logged": 1628512785218
        }
      }
    },
    {
      "cell_type": "code",
      "source": [
        "# Enable application insights\r\n",
        "\r\n",
        "aci_service.update(enable_app_insights=True)"
      ],
      "outputs": [],
      "execution_count": 25,
      "metadata": {
        "collapsed": true,
        "jupyter": {
          "source_hidden": false,
          "outputs_hidden": false
        },
        "nteract": {
          "transient": {
            "deleting": false
          }
        },
        "gather": {
          "logged": 1628515218468
        }
      }
    },
    {
      "cell_type": "code",
      "source": [
        "# Test service (1)\r\n",
        "import pandas as pd\r\n",
        "test_df=pd.read_csv('test_wine_model.csv')\r\n",
        "test_df"
      ],
      "outputs": [
        {
          "output_type": "execute_result",
          "execution_count": 17,
          "data": {
            "text/plain": "   fixed acidity  volatile acidity  citric acid  residual sugar  chlorides  \\\n0            7.3              0.65          0.0             1.2      0.065   \n\n   free sulfur dioxide  total sulfur dioxide  density    pH  sulphates  \\\n0                 15.0                  21.0   0.9946  3.39       0.47   \n\n   alcohol  \n0       10  ",
            "text/html": "<div>\n<style scoped>\n    .dataframe tbody tr th:only-of-type {\n        vertical-align: middle;\n    }\n\n    .dataframe tbody tr th {\n        vertical-align: top;\n    }\n\n    .dataframe thead th {\n        text-align: right;\n    }\n</style>\n<table border=\"1\" class=\"dataframe\">\n  <thead>\n    <tr style=\"text-align: right;\">\n      <th></th>\n      <th>fixed acidity</th>\n      <th>volatile acidity</th>\n      <th>citric acid</th>\n      <th>residual sugar</th>\n      <th>chlorides</th>\n      <th>free sulfur dioxide</th>\n      <th>total sulfur dioxide</th>\n      <th>density</th>\n      <th>pH</th>\n      <th>sulphates</th>\n      <th>alcohol</th>\n    </tr>\n  </thead>\n  <tbody>\n    <tr>\n      <th>0</th>\n      <td>7.3</td>\n      <td>0.65</td>\n      <td>0.0</td>\n      <td>1.2</td>\n      <td>0.065</td>\n      <td>15.0</td>\n      <td>21.0</td>\n      <td>0.9946</td>\n      <td>3.39</td>\n      <td>0.47</td>\n      <td>10</td>\n    </tr>\n  </tbody>\n</table>\n</div>"
          },
          "metadata": {}
        }
      ],
      "execution_count": 17,
      "metadata": {
        "collapsed": true,
        "jupyter": {
          "source_hidden": false,
          "outputs_hidden": false
        },
        "nteract": {
          "transient": {
            "deleting": false
          }
        },
        "gather": {
          "logged": 1628513061318
        }
      }
    },
    {
      "cell_type": "code",
      "source": [
        "import json\r\n",
        "import requests\r\n",
        "\r\n",
        "test_sample=json.dumps({'data': test_df.to_dict(orient='records')})\r\n",
        "response=aci_service.run(input_data=test_sample)\r\n",
        "response"
      ],
      "outputs": [
        {
          "output_type": "execute_result",
          "execution_count": 18,
          "data": {
            "text/plain": "'{\"result\": [1]}'"
          },
          "metadata": {}
        }
      ],
      "execution_count": 18,
      "metadata": {
        "collapsed": true,
        "jupyter": {
          "source_hidden": false,
          "outputs_hidden": false
        },
        "nteract": {
          "transient": {
            "deleting": false
          }
        },
        "gather": {
          "logged": 1628513169434
        }
      }
    },
    {
      "cell_type": "code",
      "source": [
        "# Test service (2)\r\n",
        "%run endpoint.py"
      ],
      "outputs": [
        {
          "output_type": "stream",
          "name": "stdout",
          "text": [
            "{\"result\": [0, 1]}\n"
          ]
        }
      ],
      "execution_count": 19,
      "metadata": {
        "collapsed": true,
        "jupyter": {
          "source_hidden": false,
          "outputs_hidden": false
        },
        "nteract": {
          "transient": {
            "deleting": false
          }
        },
        "gather": {
          "logged": 1628513336273
        }
      }
    },
    {
      "cell_type": "markdown",
      "source": [
        "TODO: In the cell below, print the logs of the web service and delete the service"
      ],
      "metadata": {
        "collapsed": true,
        "gather": {
          "logged": 1598432765711
        },
        "jupyter": {
          "outputs_hidden": false,
          "source_hidden": false
        },
        "nteract": {
          "transient": {
            "deleting": false
          }
        }
      }
    },
    {
      "cell_type": "code",
      "source": [
        "#Test service (3)\r\n",
        "%run endpoint-copy.py"
      ],
      "outputs": [
        {
          "output_type": "stream",
          "name": "stdout",
          "text": [
            "{\"result\": [1, 0, 0, 1]}\n"
          ]
        }
      ],
      "execution_count": 31,
      "metadata": {
        "collapsed": true,
        "jupyter": {
          "source_hidden": false,
          "outputs_hidden": false
        },
        "nteract": {
          "transient": {
            "deleting": false
          }
        }
      }
    },
    {
      "cell_type": "code",
      "source": [
        "# Get logs of the web service\r\n",
        "print(aci_service.get_logs())"
      ],
      "outputs": [
        {
          "output_type": "stream",
          "name": "stdout",
          "text": [
            "2021-08-09T12:39:29,657749305+00:00 - iot-server/run \n",
            "2021-08-09T12:39:29,661759645+00:00 - gunicorn/run \n",
            "Dynamic Python package installation is disabled.\n",
            "Starting HTTP server\n",
            "2021-08-09T12:39:29,663071858+00:00 - nginx/run \n",
            "2021-08-09T12:39:29,662836556+00:00 - rsyslog/run \n",
            "rsyslogd: /azureml-envs/azureml_fc92eee9a5613508afa12283dd0b27d8/lib/libuuid.so.1: no version information available (required by rsyslogd)\n",
            "EdgeHubConnectionString and IOTEDGE_IOTHUBHOSTNAME are not set. Exiting...\n",
            "2021-08-09T12:39:29,823707464+00:00 - iot-server/finish 1 0\n",
            "2021-08-09T12:39:29,825327980+00:00 - Exit code 1 is normal. Not restarting iot-server.\n",
            "Starting gunicorn 20.1.0\n",
            "Listening at: http://127.0.0.1:31311 (13)\n",
            "Using worker: sync\n",
            "worker timeout is set to 300\n",
            "Booting worker with pid: 41\n",
            "SPARK_HOME not set. Skipping PySpark Initialization.\n",
            "Generating new fontManager, this may take some time...\n",
            "Initializing logger\n",
            "2021-08-09 12:39:31,356 | root | INFO | Starting up app insights client\n",
            "logging socket was found. logging is available.\n",
            "logging socket was found. logging is available.\n",
            "2021-08-09 12:39:31,356 | root | INFO | Starting up request id generator\n",
            "2021-08-09 12:39:31,356 | root | INFO | Starting up app insight hooks\n",
            "2021-08-09 12:39:31,356 | root | INFO | Invoking user's init function\n",
            "2021-08-09 12:39:34,137 | azureml.core | WARNING | Failure while loading azureml_run_type_providers. Failed to load entrypoint automl = azureml.train.automl.run:AutoMLRun._from_run_dto with exception cannot import name 'RunType'.\n",
            "Failure while loading azureml_run_type_providers. Failed to load entrypoint automl = azureml.train.automl.run:AutoMLRun._from_run_dto with exception cannot import name 'RunType'.\n",
            "2021-08-09 12:39:34,616 | root | INFO | Users's init has completed successfully\n",
            "2021-08-09 12:39:34,620 | root | INFO | Skipping middleware: dbg_model_info as it's not enabled.\n",
            "2021-08-09 12:39:34,621 | root | INFO | Skipping middleware: dbg_resource_usage as it's not enabled.\n",
            "Generating swagger file: /tmp/tmp0txmddm_\n",
            "2021-08-09 12:39:34,624 | root | INFO | Scoring timeout is found from os.environ: 60000 ms\n",
            "2021-08-09 12:39:41,248 | root | INFO | 200\n",
            "127.0.0.1 - - [09/Aug/2021:12:39:41 +0000] \"GET /swagger.json HTTP/1.0\" 200 2990 \"-\" \"Go-http-client/1.1\"\n",
            "2021-08-09 12:39:45,224 | root | INFO | 200\n",
            "127.0.0.1 - - [09/Aug/2021:12:39:45 +0000] \"GET /swagger.json HTTP/1.0\" 200 2990 \"-\" \"Go-http-client/1.1\"\n",
            "2021-08-09 12:40:14,534 | root | INFO | 200\n",
            "127.0.0.1 - - [09/Aug/2021:12:40:14 +0000] \"GET /swagger.json HTTP/1.0\" 200 2990 \"-\" \"Go-http-client/1.1\"\n",
            "2021-08-09 12:46:09,219 | root | INFO | Validation Request Content-Type\n",
            "2021-08-09 12:46:09,220 | root | INFO | Scoring Timer is set to 60.0 seconds\n",
            "2021-08-09 12:46:09,318 | root | INFO | 200\n",
            "127.0.0.1 - - [09/Aug/2021:12:46:09 +0000] \"POST /score HTTP/1.0\" 200 19 \"-\" \"python-requests/2.25.1\"\n",
            "2021-08-09 12:48:56,024 | root | INFO | Validation Request Content-Type\n",
            "2021-08-09 12:48:56,025 | root | INFO | Scoring Timer is set to 60.0 seconds\n",
            "2021-08-09 12:48:56,106 | root | INFO | 200\n",
            "127.0.0.1 - - [09/Aug/2021:12:48:56 +0000] \"POST /score HTTP/1.0\" 200 22 \"-\" \"python-requests/2.25.1\"\n",
            "2021-08-09 12:49:17,560 | root | INFO | Validation Request Content-Type\n",
            "2021-08-09 12:49:17,560 | root | INFO | Scoring Timer is set to 60.0 seconds\n",
            "2021-08-09 12:49:17,705 | root | INFO | 200\n",
            "127.0.0.1 - - [09/Aug/2021:12:49:17 +0000] \"POST /score HTTP/1.0\" 200 19 \"-\" \"python-requests/2.25.1\"\n",
            "127.0.0.1 - - [09/Aug/2021:12:51:03 +0000] \"POST /boaform/admin/formLogin HTTP/1.0\" 404 232 \"http://20.82.54.99:80/admin/login.asp\" \"Mozilla/5.0 (X11; Ubuntu; Linux x86_64; rv:71.0) Gecko/20100101 Firefox/71.0\"\n",
            "2021-08-09 13:05:51,157 | root | INFO | 200\n",
            "127.0.0.1 - - [09/Aug/2021:13:05:51 +0000] \"GET /swagger.json HTTP/1.0\" 200 2990 \"-\" \"Go-http-client/1.1\"\n",
            "2021-08-09 13:09:33,855 | root | INFO | Validation Request Content-Type\n",
            "2021-08-09 13:09:33,856 | root | INFO | Scoring Timer is set to 60.0 seconds\n",
            "2021-08-09 13:09:34,000 | root | INFO | 200\n",
            "127.0.0.1 - - [09/Aug/2021:13:09:33 +0000] \"POST /score HTTP/1.0\" 200 19 \"-\" \"python-requests/2.25.1\"\n",
            "\n"
          ]
        }
      ],
      "execution_count": 22,
      "metadata": {
        "collapsed": true,
        "jupyter": {
          "source_hidden": false,
          "outputs_hidden": false
        },
        "nteract": {
          "transient": {
            "deleting": false
          }
        },
        "gather": {
          "logged": 1628514691195
        }
      }
    },
    {
      "cell_type": "code",
      "source": [
        "workspace = Workspace.from_config()\r\n",
        "service=Webservice(workspace, name='red-wine-quality')"
      ],
      "outputs": [],
      "execution_count": 12,
      "metadata": {
        "collapsed": true,
        "jupyter": {
          "source_hidden": true,
          "outputs_hidden": false
        },
        "nteract": {
          "transient": {
            "deleting": false
          }
        },
        "gather": {
          "logged": 1628503494805
        }
      }
    },
    {
      "cell_type": "code",
      "source": [
        "model_name= best_run.properties['model_name']\r\n",
        "model_name"
      ],
      "outputs": [
        {
          "output_type": "execute_result",
          "execution_count": 10,
          "data": {
            "text/plain": "'AutoML16b2242a739'"
          },
          "metadata": {}
        }
      ],
      "execution_count": 10,
      "metadata": {
        "collapsed": true,
        "jupyter": {
          "source_hidden": true,
          "outputs_hidden": false
        },
        "nteract": {
          "transient": {
            "deleting": false
          }
        },
        "gather": {
          "logged": 1628511707040
        }
      }
    }
  ],
  "metadata": {
    "kernel_info": {
      "name": "python3"
    },
    "kernelspec": {
      "name": "python3",
      "language": "python",
      "display_name": "Python 3"
    },
    "language_info": {
      "name": "python",
      "version": "3.6.9",
      "mimetype": "text/x-python",
      "codemirror_mode": {
        "name": "ipython",
        "version": 3
      },
      "pygments_lexer": "ipython3",
      "nbconvert_exporter": "python",
      "file_extension": ".py"
    },
    "nteract": {
      "version": "nteract-front-end@1.0.0"
    },
    "microsoft": {
      "host": {
        "AzureML": {
          "notebookHasBeenCompleted": true
        }
      }
    }
  },
  "nbformat": 4,
  "nbformat_minor": 2
}